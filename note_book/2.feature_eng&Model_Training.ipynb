{
 "cells": [
  {
   "cell_type": "markdown",
   "metadata": {},
   "source": [
    "# - Data Pre-Processing"
   ]
  },
  {
   "cell_type": "markdown",
   "metadata": {},
   "source": [
    "#### Import Packages and excel"
   ]
  },
  {
   "cell_type": "code",
   "execution_count": 1,
   "metadata": {},
   "outputs": [],
   "source": [
    "# importing liabraries\n",
    "import numpy as np\n",
    "import pandas as pd\n",
    "import os\n",
    "import matplotlib.pyplot as plt\n",
    "import seaborn as sns\n",
    "sns.set_style('whitegrid')\n",
    "plt.rcParams['figure.dpi'] = 100\n",
    "\n",
    "from sklearn.preprocessing import StandardScaler\n",
    "import warnings\n",
    "warnings.filterwarnings('ignore')"
   ]
  },
  {
   "cell_type": "code",
   "execution_count": 2,
   "metadata": {},
   "outputs": [],
   "source": [
    "df = pd.read_excel(r\"data_airline_reviews.xlsx\")\n"
   ]
  },
  {
   "cell_type": "code",
   "execution_count": 3,
   "metadata": {},
   "outputs": [
    {
     "data": {
      "text/html": [
       "<div>\n",
       "<style scoped>\n",
       "    .dataframe tbody tr th:only-of-type {\n",
       "        vertical-align: middle;\n",
       "    }\n",
       "\n",
       "    .dataframe tbody tr th {\n",
       "        vertical-align: top;\n",
       "    }\n",
       "\n",
       "    .dataframe thead th {\n",
       "        text-align: right;\n",
       "    }\n",
       "</style>\n",
       "<table border=\"1\" class=\"dataframe\">\n",
       "  <thead>\n",
       "    <tr style=\"text-align: right;\">\n",
       "      <th></th>\n",
       "      <th>airline</th>\n",
       "      <th>overall</th>\n",
       "      <th>author</th>\n",
       "      <th>review_date</th>\n",
       "      <th>customer_review</th>\n",
       "      <th>aircraft</th>\n",
       "      <th>traveller_type</th>\n",
       "      <th>cabin</th>\n",
       "      <th>route</th>\n",
       "      <th>date_flown</th>\n",
       "      <th>seat_comfort</th>\n",
       "      <th>cabin_service</th>\n",
       "      <th>food_bev</th>\n",
       "      <th>entertainment</th>\n",
       "      <th>ground_service</th>\n",
       "      <th>value_for_money</th>\n",
       "      <th>recommended</th>\n",
       "    </tr>\n",
       "  </thead>\n",
       "  <tbody>\n",
       "    <tr>\n",
       "      <th>0</th>\n",
       "      <td>NaN</td>\n",
       "      <td>NaN</td>\n",
       "      <td>NaN</td>\n",
       "      <td>NaN</td>\n",
       "      <td>NaN</td>\n",
       "      <td>NaN</td>\n",
       "      <td>NaN</td>\n",
       "      <td>NaN</td>\n",
       "      <td>NaN</td>\n",
       "      <td>NaN</td>\n",
       "      <td>NaN</td>\n",
       "      <td>NaN</td>\n",
       "      <td>NaN</td>\n",
       "      <td>NaN</td>\n",
       "      <td>NaN</td>\n",
       "      <td>NaN</td>\n",
       "      <td>NaN</td>\n",
       "    </tr>\n",
       "    <tr>\n",
       "      <th>1</th>\n",
       "      <td>Turkish Airlines</td>\n",
       "      <td>7.0</td>\n",
       "      <td>Christopher Hackley</td>\n",
       "      <td>8th May 2019</td>\n",
       "      <td>âœ… Trip Verified | London to Izmir via Istanb...</td>\n",
       "      <td>NaN</td>\n",
       "      <td>Business</td>\n",
       "      <td>Economy Class</td>\n",
       "      <td>London to Izmir via Istanbul</td>\n",
       "      <td>2019-05-01 00:00:00</td>\n",
       "      <td>4.0</td>\n",
       "      <td>5.0</td>\n",
       "      <td>4.0</td>\n",
       "      <td>4.0</td>\n",
       "      <td>2.0</td>\n",
       "      <td>4.0</td>\n",
       "      <td>yes</td>\n",
       "    </tr>\n",
       "    <tr>\n",
       "      <th>2</th>\n",
       "      <td>NaN</td>\n",
       "      <td>NaN</td>\n",
       "      <td>NaN</td>\n",
       "      <td>NaN</td>\n",
       "      <td>NaN</td>\n",
       "      <td>NaN</td>\n",
       "      <td>NaN</td>\n",
       "      <td>NaN</td>\n",
       "      <td>NaN</td>\n",
       "      <td>NaN</td>\n",
       "      <td>NaN</td>\n",
       "      <td>NaN</td>\n",
       "      <td>NaN</td>\n",
       "      <td>NaN</td>\n",
       "      <td>NaN</td>\n",
       "      <td>NaN</td>\n",
       "      <td>NaN</td>\n",
       "    </tr>\n",
       "    <tr>\n",
       "      <th>3</th>\n",
       "      <td>Turkish Airlines</td>\n",
       "      <td>2.0</td>\n",
       "      <td>Adriana Pisoi</td>\n",
       "      <td>7th May 2019</td>\n",
       "      <td>âœ… Trip Verified | Istanbul to Bucharest. We ...</td>\n",
       "      <td>NaN</td>\n",
       "      <td>Family Leisure</td>\n",
       "      <td>Economy Class</td>\n",
       "      <td>Istanbul to Bucharest</td>\n",
       "      <td>2019-05-01 00:00:00</td>\n",
       "      <td>4.0</td>\n",
       "      <td>1.0</td>\n",
       "      <td>1.0</td>\n",
       "      <td>1.0</td>\n",
       "      <td>1.0</td>\n",
       "      <td>1.0</td>\n",
       "      <td>no</td>\n",
       "    </tr>\n",
       "    <tr>\n",
       "      <th>4</th>\n",
       "      <td>NaN</td>\n",
       "      <td>NaN</td>\n",
       "      <td>NaN</td>\n",
       "      <td>NaN</td>\n",
       "      <td>NaN</td>\n",
       "      <td>NaN</td>\n",
       "      <td>NaN</td>\n",
       "      <td>NaN</td>\n",
       "      <td>NaN</td>\n",
       "      <td>NaN</td>\n",
       "      <td>NaN</td>\n",
       "      <td>NaN</td>\n",
       "      <td>NaN</td>\n",
       "      <td>NaN</td>\n",
       "      <td>NaN</td>\n",
       "      <td>NaN</td>\n",
       "      <td>NaN</td>\n",
       "    </tr>\n",
       "  </tbody>\n",
       "</table>\n",
       "</div>"
      ],
      "text/plain": [
       "            airline  overall               author   review_date  \\\n",
       "0               NaN      NaN                  NaN           NaN   \n",
       "1  Turkish Airlines      7.0  Christopher Hackley  8th May 2019   \n",
       "2               NaN      NaN                  NaN           NaN   \n",
       "3  Turkish Airlines      2.0        Adriana Pisoi  7th May 2019   \n",
       "4               NaN      NaN                  NaN           NaN   \n",
       "\n",
       "                                     customer_review aircraft  traveller_type  \\\n",
       "0                                                NaN      NaN             NaN   \n",
       "1  âœ… Trip Verified | London to Izmir via Istanb...      NaN        Business   \n",
       "2                                                NaN      NaN             NaN   \n",
       "3  âœ… Trip Verified | Istanbul to Bucharest. We ...      NaN  Family Leisure   \n",
       "4                                                NaN      NaN             NaN   \n",
       "\n",
       "           cabin                         route           date_flown  \\\n",
       "0            NaN                           NaN                  NaN   \n",
       "1  Economy Class  London to Izmir via Istanbul  2019-05-01 00:00:00   \n",
       "2            NaN                           NaN                  NaN   \n",
       "3  Economy Class         Istanbul to Bucharest  2019-05-01 00:00:00   \n",
       "4            NaN                           NaN                  NaN   \n",
       "\n",
       "   seat_comfort  cabin_service  food_bev  entertainment  ground_service  \\\n",
       "0           NaN            NaN       NaN            NaN             NaN   \n",
       "1           4.0            5.0       4.0            4.0             2.0   \n",
       "2           NaN            NaN       NaN            NaN             NaN   \n",
       "3           4.0            1.0       1.0            1.0             1.0   \n",
       "4           NaN            NaN       NaN            NaN             NaN   \n",
       "\n",
       "   value_for_money recommended  \n",
       "0              NaN         NaN  \n",
       "1              4.0         yes  \n",
       "2              NaN         NaN  \n",
       "3              1.0          no  \n",
       "4              NaN         NaN  "
      ]
     },
     "execution_count": 3,
     "metadata": {},
     "output_type": "execute_result"
    }
   ],
   "source": [
    "df.head()"
   ]
  },
  {
   "cell_type": "markdown",
   "metadata": {},
   "source": [
    "## Data Cleaning\n",
    "\n",
    "### Handling Missing values\n",
    "\n",
    "* Handling Missing values \n",
    "* Handling Duplicates\n",
    "* Check data type\n",
    "* Understand the dataset\n",
    "\n",
    "\n",
    "#### Check duplicates Values"
   ]
  },
  {
   "cell_type": "code",
   "execution_count": 4,
   "metadata": {},
   "outputs": [
    {
     "data": {
      "text/plain": [
       "70711"
      ]
     },
     "execution_count": 4,
     "metadata": {},
     "output_type": "execute_result"
    }
   ],
   "source": [
    "df.duplicated().sum()"
   ]
  },
  {
   "cell_type": "code",
   "execution_count": 5,
   "metadata": {},
   "outputs": [],
   "source": [
    "df=df.drop_duplicates()"
   ]
  },
  {
   "cell_type": "code",
   "execution_count": 6,
   "metadata": {},
   "outputs": [
    {
     "data": {
      "text/plain": [
       "(61184, 17)"
      ]
     },
     "execution_count": 6,
     "metadata": {},
     "output_type": "execute_result"
    }
   ],
   "source": [
    "df.shape"
   ]
  },
  {
   "cell_type": "markdown",
   "metadata": {},
   "source": [
    "checking missing values and Handling Missing values"
   ]
  },
  {
   "cell_type": "code",
   "execution_count": 7,
   "metadata": {},
   "outputs": [
    {
     "data": {
      "text/plain": [
       "airline                1\n",
       "overall             1783\n",
       "author                 1\n",
       "review_date            1\n",
       "customer_review        1\n",
       "aircraft           42696\n",
       "traveller_type     23644\n",
       "cabin               2479\n",
       "route              23671\n",
       "date_flown         23750\n",
       "seat_comfort        4973\n",
       "cabin_service       4944\n",
       "food_bev           12843\n",
       "entertainment      20954\n",
       "ground_service     24015\n",
       "value_for_money     1857\n",
       "recommended         1423\n",
       "dtype: int64"
      ]
     },
     "execution_count": 7,
     "metadata": {},
     "output_type": "execute_result"
    }
   ],
   "source": [
    "df.isnull().sum()"
   ]
  },
  {
   "cell_type": "code",
   "execution_count": 8,
   "metadata": {},
   "outputs": [
    {
     "data": {
      "text/plain": [
       "airline             0.001634\n",
       "overall             2.914161\n",
       "author              0.001634\n",
       "review_date         0.001634\n",
       "customer_review     0.001634\n",
       "aircraft           69.782950\n",
       "traveller_type     38.644090\n",
       "cabin               4.051713\n",
       "route              38.688219\n",
       "date_flown         38.817338\n",
       "seat_comfort        8.127942\n",
       "cabin_service       8.080544\n",
       "food_bev           20.990782\n",
       "entertainment      34.247516\n",
       "ground_service     39.250458\n",
       "value_for_money     3.035107\n",
       "recommended         2.325771\n",
       "dtype: float64"
      ]
     },
     "execution_count": 8,
     "metadata": {},
     "output_type": "execute_result"
    }
   ],
   "source": [
    "df.isnull().sum()/df.shape[0]*100"
   ]
  },
  {
   "cell_type": "code",
   "execution_count": 9,
   "metadata": {},
   "outputs": [],
   "source": [
    "def drop_null(df):\n",
    "    # Calculate the percentage of null values for each column\n",
    "    null_percentage = df.isnull().sum() / df.shape[0] * 100\n",
    "    \n",
    "    # Identify columns with more than 25% null values\n",
    "    columns_to_drop = [col for col in df.columns if null_percentage[col] > 25.00]\n",
    "    \n",
    "    # Drop those columns\n",
    "    df.drop(columns=columns_to_drop, inplace=True)\n",
    "    \n",
    "    return df\n"
   ]
  },
  {
   "cell_type": "code",
   "execution_count": 10,
   "metadata": {},
   "outputs": [
    {
     "data": {
      "text/html": [
       "<div>\n",
       "<style scoped>\n",
       "    .dataframe tbody tr th:only-of-type {\n",
       "        vertical-align: middle;\n",
       "    }\n",
       "\n",
       "    .dataframe tbody tr th {\n",
       "        vertical-align: top;\n",
       "    }\n",
       "\n",
       "    .dataframe thead th {\n",
       "        text-align: right;\n",
       "    }\n",
       "</style>\n",
       "<table border=\"1\" class=\"dataframe\">\n",
       "  <thead>\n",
       "    <tr style=\"text-align: right;\">\n",
       "      <th></th>\n",
       "      <th>airline</th>\n",
       "      <th>overall</th>\n",
       "      <th>author</th>\n",
       "      <th>review_date</th>\n",
       "      <th>customer_review</th>\n",
       "      <th>cabin</th>\n",
       "      <th>seat_comfort</th>\n",
       "      <th>cabin_service</th>\n",
       "      <th>food_bev</th>\n",
       "      <th>value_for_money</th>\n",
       "      <th>recommended</th>\n",
       "    </tr>\n",
       "  </thead>\n",
       "  <tbody>\n",
       "    <tr>\n",
       "      <th>0</th>\n",
       "      <td>NaN</td>\n",
       "      <td>NaN</td>\n",
       "      <td>NaN</td>\n",
       "      <td>NaN</td>\n",
       "      <td>NaN</td>\n",
       "      <td>NaN</td>\n",
       "      <td>NaN</td>\n",
       "      <td>NaN</td>\n",
       "      <td>NaN</td>\n",
       "      <td>NaN</td>\n",
       "      <td>NaN</td>\n",
       "    </tr>\n",
       "    <tr>\n",
       "      <th>1</th>\n",
       "      <td>Turkish Airlines</td>\n",
       "      <td>7.0</td>\n",
       "      <td>Christopher Hackley</td>\n",
       "      <td>8th May 2019</td>\n",
       "      <td>âœ… Trip Verified | London to Izmir via Istanb...</td>\n",
       "      <td>Economy Class</td>\n",
       "      <td>4.0</td>\n",
       "      <td>5.0</td>\n",
       "      <td>4.0</td>\n",
       "      <td>4.0</td>\n",
       "      <td>yes</td>\n",
       "    </tr>\n",
       "    <tr>\n",
       "      <th>3</th>\n",
       "      <td>Turkish Airlines</td>\n",
       "      <td>2.0</td>\n",
       "      <td>Adriana Pisoi</td>\n",
       "      <td>7th May 2019</td>\n",
       "      <td>âœ… Trip Verified | Istanbul to Bucharest. We ...</td>\n",
       "      <td>Economy Class</td>\n",
       "      <td>4.0</td>\n",
       "      <td>1.0</td>\n",
       "      <td>1.0</td>\n",
       "      <td>1.0</td>\n",
       "      <td>no</td>\n",
       "    </tr>\n",
       "    <tr>\n",
       "      <th>5</th>\n",
       "      <td>Turkish Airlines</td>\n",
       "      <td>3.0</td>\n",
       "      <td>M Galerko</td>\n",
       "      <td>7th May 2019</td>\n",
       "      <td>âœ… Trip Verified | Rome to Prishtina via Ista...</td>\n",
       "      <td>Economy Class</td>\n",
       "      <td>1.0</td>\n",
       "      <td>4.0</td>\n",
       "      <td>1.0</td>\n",
       "      <td>2.0</td>\n",
       "      <td>no</td>\n",
       "    </tr>\n",
       "    <tr>\n",
       "      <th>7</th>\n",
       "      <td>Turkish Airlines</td>\n",
       "      <td>10.0</td>\n",
       "      <td>Zeshan Shah</td>\n",
       "      <td>6th May 2019</td>\n",
       "      <td>âœ… Trip Verified | Flew on Turkish Airlines I...</td>\n",
       "      <td>Economy Class</td>\n",
       "      <td>4.0</td>\n",
       "      <td>5.0</td>\n",
       "      <td>5.0</td>\n",
       "      <td>5.0</td>\n",
       "      <td>yes</td>\n",
       "    </tr>\n",
       "    <tr>\n",
       "      <th>...</th>\n",
       "      <td>...</td>\n",
       "      <td>...</td>\n",
       "      <td>...</td>\n",
       "      <td>...</td>\n",
       "      <td>...</td>\n",
       "      <td>...</td>\n",
       "      <td>...</td>\n",
       "      <td>...</td>\n",
       "      <td>...</td>\n",
       "      <td>...</td>\n",
       "      <td>...</td>\n",
       "    </tr>\n",
       "    <tr>\n",
       "      <th>131886</th>\n",
       "      <td>Ukraine International</td>\n",
       "      <td>NaN</td>\n",
       "      <td>Yevheniy Kahanovych</td>\n",
       "      <td>21st January 2007</td>\n",
       "      <td>Two domestic flights between Kiev and Lviv las...</td>\n",
       "      <td>NaN</td>\n",
       "      <td>NaN</td>\n",
       "      <td>NaN</td>\n",
       "      <td>NaN</td>\n",
       "      <td>NaN</td>\n",
       "      <td>no</td>\n",
       "    </tr>\n",
       "    <tr>\n",
       "      <th>131888</th>\n",
       "      <td>Ukraine International</td>\n",
       "      <td>NaN</td>\n",
       "      <td>Helen Lee</td>\n",
       "      <td>15th December 2006</td>\n",
       "      <td>I had a good flight from London to Kiev with U...</td>\n",
       "      <td>NaN</td>\n",
       "      <td>NaN</td>\n",
       "      <td>NaN</td>\n",
       "      <td>NaN</td>\n",
       "      <td>NaN</td>\n",
       "      <td>no</td>\n",
       "    </tr>\n",
       "    <tr>\n",
       "      <th>131890</th>\n",
       "      <td>Ukraine International</td>\n",
       "      <td>NaN</td>\n",
       "      <td>Andriy Yesypenko</td>\n",
       "      <td>19th May 2006</td>\n",
       "      <td>Kiev - London (Gatwick) in business class (in ...</td>\n",
       "      <td>NaN</td>\n",
       "      <td>NaN</td>\n",
       "      <td>NaN</td>\n",
       "      <td>NaN</td>\n",
       "      <td>NaN</td>\n",
       "      <td>no</td>\n",
       "    </tr>\n",
       "    <tr>\n",
       "      <th>131892</th>\n",
       "      <td>Ukraine International</td>\n",
       "      <td>NaN</td>\n",
       "      <td>Volodya Bilotkach</td>\n",
       "      <td>29th April 2006</td>\n",
       "      <td>Several flights - KBP to AMS (3 times one way)...</td>\n",
       "      <td>NaN</td>\n",
       "      <td>NaN</td>\n",
       "      <td>NaN</td>\n",
       "      <td>NaN</td>\n",
       "      <td>NaN</td>\n",
       "      <td>no</td>\n",
       "    </tr>\n",
       "    <tr>\n",
       "      <th>131894</th>\n",
       "      <td>Ukraine International</td>\n",
       "      <td>NaN</td>\n",
       "      <td>Kasper Hettinga</td>\n",
       "      <td>10th February 2006</td>\n",
       "      <td>KBP-AMS with UIA. Although it was a relatively...</td>\n",
       "      <td>NaN</td>\n",
       "      <td>NaN</td>\n",
       "      <td>NaN</td>\n",
       "      <td>NaN</td>\n",
       "      <td>NaN</td>\n",
       "      <td>no</td>\n",
       "    </tr>\n",
       "  </tbody>\n",
       "</table>\n",
       "<p>61184 rows × 11 columns</p>\n",
       "</div>"
      ],
      "text/plain": [
       "                      airline  overall               author  \\\n",
       "0                         NaN      NaN                  NaN   \n",
       "1            Turkish Airlines      7.0  Christopher Hackley   \n",
       "3            Turkish Airlines      2.0        Adriana Pisoi   \n",
       "5            Turkish Airlines      3.0            M Galerko   \n",
       "7            Turkish Airlines     10.0          Zeshan Shah   \n",
       "...                       ...      ...                  ...   \n",
       "131886  Ukraine International      NaN  Yevheniy Kahanovych   \n",
       "131888  Ukraine International      NaN            Helen Lee   \n",
       "131890  Ukraine International      NaN     Andriy Yesypenko   \n",
       "131892  Ukraine International      NaN    Volodya Bilotkach   \n",
       "131894  Ukraine International      NaN      Kasper Hettinga   \n",
       "\n",
       "               review_date                                    customer_review  \\\n",
       "0                      NaN                                                NaN   \n",
       "1             8th May 2019  âœ… Trip Verified | London to Izmir via Istanb...   \n",
       "3             7th May 2019  âœ… Trip Verified | Istanbul to Bucharest. We ...   \n",
       "5             7th May 2019  âœ… Trip Verified | Rome to Prishtina via Ista...   \n",
       "7             6th May 2019  âœ… Trip Verified | Flew on Turkish Airlines I...   \n",
       "...                    ...                                                ...   \n",
       "131886   21st January 2007  Two domestic flights between Kiev and Lviv las...   \n",
       "131888  15th December 2006  I had a good flight from London to Kiev with U...   \n",
       "131890       19th May 2006  Kiev - London (Gatwick) in business class (in ...   \n",
       "131892     29th April 2006  Several flights - KBP to AMS (3 times one way)...   \n",
       "131894  10th February 2006  KBP-AMS with UIA. Although it was a relatively...   \n",
       "\n",
       "                cabin  seat_comfort  cabin_service  food_bev  value_for_money  \\\n",
       "0                 NaN           NaN            NaN       NaN              NaN   \n",
       "1       Economy Class           4.0            5.0       4.0              4.0   \n",
       "3       Economy Class           4.0            1.0       1.0              1.0   \n",
       "5       Economy Class           1.0            4.0       1.0              2.0   \n",
       "7       Economy Class           4.0            5.0       5.0              5.0   \n",
       "...               ...           ...            ...       ...              ...   \n",
       "131886            NaN           NaN            NaN       NaN              NaN   \n",
       "131888            NaN           NaN            NaN       NaN              NaN   \n",
       "131890            NaN           NaN            NaN       NaN              NaN   \n",
       "131892            NaN           NaN            NaN       NaN              NaN   \n",
       "131894            NaN           NaN            NaN       NaN              NaN   \n",
       "\n",
       "       recommended  \n",
       "0              NaN  \n",
       "1              yes  \n",
       "3               no  \n",
       "5               no  \n",
       "7              yes  \n",
       "...            ...  \n",
       "131886          no  \n",
       "131888          no  \n",
       "131890          no  \n",
       "131892          no  \n",
       "131894          no  \n",
       "\n",
       "[61184 rows x 11 columns]"
      ]
     },
     "execution_count": 10,
     "metadata": {},
     "output_type": "execute_result"
    }
   ],
   "source": [
    "drop_null(df)"
   ]
  },
  {
   "cell_type": "code",
   "execution_count": 11,
   "metadata": {},
   "outputs": [
    {
     "data": {
      "text/plain": [
       "airline             0.001634\n",
       "overall             2.914161\n",
       "author              0.001634\n",
       "review_date         0.001634\n",
       "customer_review     0.001634\n",
       "cabin               4.051713\n",
       "seat_comfort        8.127942\n",
       "cabin_service       8.080544\n",
       "food_bev           20.990782\n",
       "value_for_money     3.035107\n",
       "recommended         2.325771\n",
       "dtype: float64"
      ]
     },
     "execution_count": 11,
     "metadata": {},
     "output_type": "execute_result"
    }
   ],
   "source": [
    "df.isnull().sum()/df.shape[0]*100"
   ]
  },
  {
   "cell_type": "code",
   "execution_count": 12,
   "metadata": {},
   "outputs": [],
   "source": [
    "df.dropna(axis=1,how=\"all\",inplace=True)"
   ]
  },
  {
   "cell_type": "code",
   "execution_count": 13,
   "metadata": {},
   "outputs": [],
   "source": [
    "df.dropna(axis=0,how=\"all\",inplace=True)"
   ]
  },
  {
   "cell_type": "code",
   "execution_count": 14,
   "metadata": {},
   "outputs": [
    {
     "data": {
      "text/plain": [
       "(61183, 11)"
      ]
     },
     "execution_count": 14,
     "metadata": {},
     "output_type": "execute_result"
    }
   ],
   "source": [
    "df.shape"
   ]
  },
  {
   "cell_type": "code",
   "execution_count": 15,
   "metadata": {},
   "outputs": [],
   "source": [
    "df['overall'].fillna(df['overall'].mean(), inplace=True)\n",
    "\n",
    "df['cabin'].fillna(df['cabin'].mode()[0], inplace=True)\n",
    "\n",
    "df['seat_comfort'].fillna(df['seat_comfort'].mean(), inplace=True)\n",
    "\n",
    "df['cabin_service'].fillna(df['cabin_service'].mean(), inplace=True)\n",
    "\n",
    "df['food_bev'].fillna(df['food_bev'].mean(), inplace=True)\n",
    "\n",
    "df['value_for_money'].fillna(df['value_for_money'].mean(), inplace=True)\n",
    "\n",
    "df['recommended'].fillna(df['recommended'].mode()[0], inplace=True)\n"
   ]
  },
  {
   "cell_type": "code",
   "execution_count": 16,
   "metadata": {},
   "outputs": [
    {
     "data": {
      "text/plain": [
       "airline            0\n",
       "overall            0\n",
       "author             0\n",
       "review_date        0\n",
       "customer_review    0\n",
       "cabin              0\n",
       "seat_comfort       0\n",
       "cabin_service      0\n",
       "food_bev           0\n",
       "value_for_money    0\n",
       "recommended        0\n",
       "dtype: int64"
      ]
     },
     "execution_count": 16,
     "metadata": {},
     "output_type": "execute_result"
    }
   ],
   "source": [
    "df.isnull().sum()"
   ]
  },
  {
   "cell_type": "markdown",
   "metadata": {},
   "source": [
    "# checking datatype"
   ]
  },
  {
   "cell_type": "code",
   "execution_count": 17,
   "metadata": {},
   "outputs": [
    {
     "data": {
      "text/plain": [
       "airline             object\n",
       "overall            float64\n",
       "author              object\n",
       "review_date         object\n",
       "customer_review     object\n",
       "cabin               object\n",
       "seat_comfort       float64\n",
       "cabin_service      float64\n",
       "food_bev           float64\n",
       "value_for_money    float64\n",
       "recommended         object\n",
       "dtype: object"
      ]
     },
     "execution_count": 17,
     "metadata": {},
     "output_type": "execute_result"
    }
   ],
   "source": [
    "df.dtypes"
   ]
  },
  {
   "cell_type": "code",
   "execution_count": 18,
   "metadata": {},
   "outputs": [
    {
     "data": {
      "text/plain": [
       "['object',\n",
       " 'float64',\n",
       " 'object',\n",
       " 'object',\n",
       " 'object',\n",
       " 'object',\n",
       " 'float64',\n",
       " 'float64',\n",
       " 'float64',\n",
       " 'float64',\n",
       " 'object']"
      ]
     },
     "execution_count": 18,
     "metadata": {},
     "output_type": "execute_result"
    }
   ],
   "source": [
    "[dtype.name for dtype in df.dtypes]"
   ]
  },
  {
   "cell_type": "code",
   "execution_count": 19,
   "metadata": {},
   "outputs": [],
   "source": [
    "df['review_date'] = pd.to_datetime(df['review_date'], errors='coerce')"
   ]
  },
  {
   "cell_type": "code",
   "execution_count": 20,
   "metadata": {},
   "outputs": [
    {
     "data": {
      "text/plain": [
       "airline                    object\n",
       "overall                   float64\n",
       "author                     object\n",
       "review_date        datetime64[ns]\n",
       "customer_review            object\n",
       "cabin                      object\n",
       "seat_comfort              float64\n",
       "cabin_service             float64\n",
       "food_bev                  float64\n",
       "value_for_money           float64\n",
       "recommended                object\n",
       "dtype: object"
      ]
     },
     "execution_count": 20,
     "metadata": {},
     "output_type": "execute_result"
    }
   ],
   "source": [
    "df.dtypes"
   ]
  },
  {
   "cell_type": "code",
   "execution_count": 21,
   "metadata": {},
   "outputs": [
    {
     "name": "stdout",
     "output_type": "stream",
     "text": [
      "Requirement already satisfied: textblob in c:\\users\\dell\\anaconda3\\envs\\referal_pred\\lib\\site-packages (0.19.0)\n",
      "Requirement already satisfied: nltk>=3.9 in c:\\users\\dell\\anaconda3\\envs\\referal_pred\\lib\\site-packages (from textblob) (3.9.1)\n",
      "Requirement already satisfied: click in c:\\users\\dell\\anaconda3\\envs\\referal_pred\\lib\\site-packages (from nltk>=3.9->textblob) (8.1.8)\n",
      "Requirement already satisfied: joblib in c:\\users\\dell\\anaconda3\\envs\\referal_pred\\lib\\site-packages (from nltk>=3.9->textblob) (1.4.2)\n",
      "Requirement already satisfied: regex>=2021.8.3 in c:\\users\\dell\\anaconda3\\envs\\referal_pred\\lib\\site-packages (from nltk>=3.9->textblob) (2024.11.6)\n",
      "Requirement already satisfied: tqdm in c:\\users\\dell\\anaconda3\\envs\\referal_pred\\lib\\site-packages (from nltk>=3.9->textblob) (4.67.1)\n",
      "Requirement already satisfied: colorama in c:\\users\\dell\\anaconda3\\envs\\referal_pred\\lib\\site-packages (from click->nltk>=3.9->textblob) (0.4.6)\n"
     ]
    }
   ],
   "source": [
    "! pip install textblob\n"
   ]
  },
  {
   "cell_type": "code",
   "execution_count": 22,
   "metadata": {},
   "outputs": [
    {
     "name": "stdout",
     "output_type": "stream",
     "text": [
      "Sentiment analysis applied. Sentiment score added to dataset.\n"
     ]
    }
   ],
   "source": [
    "from textblob import TextBlob\n",
    "\n",
    "# Define a function to calculate sentiment polarity\n",
    "def get_sentiment(text):\n",
    "    return TextBlob(text).sentiment.polarity  # Polarity score between -1 (negative) and 1 (positive)\n",
    "\n",
    "# Apply sentiment analysis\n",
    "df['sentiment_score'] = df['customer_review'].apply(get_sentiment)\n",
    "\n",
    "print(\"Sentiment analysis applied. Sentiment score added to dataset.\")\n"
   ]
  },
  {
   "cell_type": "code",
   "execution_count": 23,
   "metadata": {},
   "outputs": [],
   "source": [
    " # Drop the original 'customer review' column , dropping unwanted column\n",
    "\n",
    "df.drop(columns=['customer_review','author',\"review_date\"], inplace=True)"
   ]
  },
  {
   "cell_type": "code",
   "execution_count": 24,
   "metadata": {},
   "outputs": [
    {
     "data": {
      "text/html": [
       "<div>\n",
       "<style scoped>\n",
       "    .dataframe tbody tr th:only-of-type {\n",
       "        vertical-align: middle;\n",
       "    }\n",
       "\n",
       "    .dataframe tbody tr th {\n",
       "        vertical-align: top;\n",
       "    }\n",
       "\n",
       "    .dataframe thead th {\n",
       "        text-align: right;\n",
       "    }\n",
       "</style>\n",
       "<table border=\"1\" class=\"dataframe\">\n",
       "  <thead>\n",
       "    <tr style=\"text-align: right;\">\n",
       "      <th></th>\n",
       "      <th>airline</th>\n",
       "      <th>overall</th>\n",
       "      <th>cabin</th>\n",
       "      <th>seat_comfort</th>\n",
       "      <th>cabin_service</th>\n",
       "      <th>food_bev</th>\n",
       "      <th>value_for_money</th>\n",
       "      <th>recommended</th>\n",
       "      <th>sentiment_score</th>\n",
       "    </tr>\n",
       "  </thead>\n",
       "  <tbody>\n",
       "    <tr>\n",
       "      <th>1</th>\n",
       "      <td>Turkish Airlines</td>\n",
       "      <td>7.0</td>\n",
       "      <td>Economy Class</td>\n",
       "      <td>4.0</td>\n",
       "      <td>5.0</td>\n",
       "      <td>4.0</td>\n",
       "      <td>4.0</td>\n",
       "      <td>yes</td>\n",
       "      <td>0.260263</td>\n",
       "    </tr>\n",
       "  </tbody>\n",
       "</table>\n",
       "</div>"
      ],
      "text/plain": [
       "            airline  overall          cabin  seat_comfort  cabin_service  \\\n",
       "1  Turkish Airlines      7.0  Economy Class           4.0            5.0   \n",
       "\n",
       "   food_bev  value_for_money recommended  sentiment_score  \n",
       "1       4.0              4.0         yes         0.260263  "
      ]
     },
     "execution_count": 24,
     "metadata": {},
     "output_type": "execute_result"
    }
   ],
   "source": [
    "df.head(1)"
   ]
  },
  {
   "cell_type": "markdown",
   "metadata": {},
   "source": [
    "# Feature Engineering"
   ]
  },
  {
   "cell_type": "markdown",
   "metadata": {},
   "source": [
    "## Feature Extraction"
   ]
  },
  {
   "cell_type": "markdown",
   "metadata": {},
   "source": [
    "### Type of Features\n"
   ]
  },
  {
   "cell_type": "markdown",
   "metadata": {},
   "source": [
    "**Numeric Features**"
   ]
  },
  {
   "cell_type": "code",
   "execution_count": 25,
   "metadata": {},
   "outputs": [
    {
     "name": "stdout",
     "output_type": "stream",
     "text": [
      "Num of Numerical Features : 6\n"
     ]
    }
   ],
   "source": [
    "num_features = [feature for feature in df.columns if df[feature].dtype != 'O']\n",
    "print('Num of Numerical Features :', len(num_features))"
   ]
  },
  {
   "cell_type": "markdown",
   "metadata": {},
   "source": [
    "**Categorical Features**"
   ]
  },
  {
   "cell_type": "code",
   "execution_count": 26,
   "metadata": {},
   "outputs": [
    {
     "name": "stdout",
     "output_type": "stream",
     "text": [
      "Num of Categorical Features : 3\n"
     ]
    }
   ],
   "source": [
    "cat_features = [feature for feature in df.columns if df[feature].dtype == 'O']\n",
    "print('Num of Categorical Features :', len(cat_features))"
   ]
  },
  {
   "cell_type": "markdown",
   "metadata": {},
   "source": [
    "**Discrete features**"
   ]
  },
  {
   "cell_type": "code",
   "execution_count": 27,
   "metadata": {},
   "outputs": [
    {
     "name": "stdout",
     "output_type": "stream",
     "text": [
      "We have 5 discrete features : ['overall', 'seat_comfort', 'cabin_service', 'food_bev', 'value_for_money']\n"
     ]
    }
   ],
   "source": [
    "discrete_features=[feature for feature in num_features if len(df[feature].unique())<=25]\n",
    "print('We have {} discrete features : {}'.format(len(discrete_features), discrete_features))"
   ]
  },
  {
   "cell_type": "markdown",
   "metadata": {},
   "source": [
    "**Continues Features**"
   ]
  },
  {
   "cell_type": "code",
   "execution_count": 28,
   "metadata": {},
   "outputs": [
    {
     "name": "stdout",
     "output_type": "stream",
     "text": [
      "\n",
      "We have 1 continuous_features : ['sentiment_score']\n"
     ]
    }
   ],
   "source": [
    "continuous_features=[feature for feature in num_features if feature not in discrete_features]\n",
    "print('\\nWe have {} continuous_features : {}'.format(len(continuous_features), continuous_features))"
   ]
  },
  {
   "cell_type": "markdown",
   "metadata": {},
   "source": [
    "## Feature Selection"
   ]
  },
  {
   "cell_type": "markdown",
   "metadata": {},
   "source": []
  },
  {
   "cell_type": "markdown",
   "metadata": {},
   "source": [
    "* **A chi-squared test (also chi-square or χ2 test) is a statistical hypothesis test that is valid to perform when the test statistic is chi-squared distributed under the null hypothesis, specifically Pearson's chi-squared test**\n",
    "\n",
    "* **A chi-square statistic is one way to show a relationship between two categorical variables.**\n",
    "\n",
    "* **Here we test correlation of Categorical columns with Target column i.e recommended**"
   ]
  },
  {
   "cell_type": "markdown",
   "metadata": {},
   "source": [
    "Null Hypothesis ($ H_0 $): The Feature is independent of target column (No-Correlation)\n",
    "\n",
    "Alternative Hypothesis ($ H_1 $): The Feature and Target column are not independent (Correalted)"
   ]
  },
  {
   "cell_type": "code",
   "execution_count": 30,
   "metadata": {},
   "outputs": [
    {
     "ename": "NameError",
     "evalue": "name 'feature' is not defined",
     "output_type": "error",
     "traceback": [
      "\u001b[1;31m---------------------------------------------------------------------------\u001b[0m",
      "\u001b[1;31mNameError\u001b[0m                                 Traceback (most recent call last)",
      "Cell \u001b[1;32mIn[30], line 1\u001b[0m\n\u001b[1;32m----> 1\u001b[0m df[\u001b[43mfeature\u001b[49m]\n",
      "\u001b[1;31mNameError\u001b[0m: name 'feature' is not defined"
     ]
    }
   ],
   "source": [
    "df[feature]"
   ]
  },
  {
   "cell_type": "code",
   "execution_count": 31,
   "metadata": {},
   "outputs": [
    {
     "data": {
      "text/html": [
       "<div>\n",
       "<style scoped>\n",
       "    .dataframe tbody tr th:only-of-type {\n",
       "        vertical-align: middle;\n",
       "    }\n",
       "\n",
       "    .dataframe tbody tr th {\n",
       "        vertical-align: top;\n",
       "    }\n",
       "\n",
       "    .dataframe thead th {\n",
       "        text-align: right;\n",
       "    }\n",
       "</style>\n",
       "<table border=\"1\" class=\"dataframe\">\n",
       "  <thead>\n",
       "    <tr style=\"text-align: right;\">\n",
       "      <th></th>\n",
       "      <th>Column</th>\n",
       "      <th>Hypothesis Result</th>\n",
       "    </tr>\n",
       "  </thead>\n",
       "  <tbody>\n",
       "    <tr>\n",
       "      <th>0</th>\n",
       "      <td>airline</td>\n",
       "      <td>Reject Null Hypothesis</td>\n",
       "    </tr>\n",
       "    <tr>\n",
       "      <th>1</th>\n",
       "      <td>cabin</td>\n",
       "      <td>Reject Null Hypothesis</td>\n",
       "    </tr>\n",
       "    <tr>\n",
       "      <th>2</th>\n",
       "      <td>recommended</td>\n",
       "      <td>Reject Null Hypothesis</td>\n",
       "    </tr>\n",
       "  </tbody>\n",
       "</table>\n",
       "</div>"
      ],
      "text/plain": [
       "        Column       Hypothesis Result\n",
       "0      airline  Reject Null Hypothesis\n",
       "1        cabin  Reject Null Hypothesis\n",
       "2  recommended  Reject Null Hypothesis"
      ]
     },
     "execution_count": 31,
     "metadata": {},
     "output_type": "execute_result"
    }
   ],
   "source": [
    "from scipy.stats import chi2_contingency\n",
    "chi2_test = []\n",
    "for feature in cat_features:\n",
    "    if chi2_contingency(pd.crosstab(df['recommended'], df[feature]))[1] < 0.05:\n",
    "        chi2_test.append('Reject Null Hypothesis')\n",
    "    else:\n",
    "        chi2_test.append('Fail to Reject Null Hypothesis')\n",
    "result = pd.DataFrame(data=[cat_features, chi2_test]).T\n",
    "result.columns = ['Column', 'Hypothesis Result']\n",
    "result"
   ]
  },
  {
   "cell_type": "markdown",
   "metadata": {},
   "source": [
    "### Check Multicollinearity in Numerical features"
   ]
  },
  {
   "cell_type": "code",
   "execution_count": 32,
   "metadata": {},
   "outputs": [
    {
     "data": {
      "text/html": [
       "<div>\n",
       "<style scoped>\n",
       "    .dataframe tbody tr th:only-of-type {\n",
       "        vertical-align: middle;\n",
       "    }\n",
       "\n",
       "    .dataframe tbody tr th {\n",
       "        vertical-align: top;\n",
       "    }\n",
       "\n",
       "    .dataframe thead th {\n",
       "        text-align: right;\n",
       "    }\n",
       "</style>\n",
       "<table border=\"1\" class=\"dataframe\">\n",
       "  <thead>\n",
       "    <tr style=\"text-align: right;\">\n",
       "      <th></th>\n",
       "      <th>airline</th>\n",
       "      <th>overall</th>\n",
       "      <th>cabin</th>\n",
       "      <th>seat_comfort</th>\n",
       "      <th>cabin_service</th>\n",
       "      <th>food_bev</th>\n",
       "      <th>value_for_money</th>\n",
       "      <th>recommended</th>\n",
       "      <th>sentiment_score</th>\n",
       "    </tr>\n",
       "  </thead>\n",
       "  <tbody>\n",
       "    <tr>\n",
       "      <th>1</th>\n",
       "      <td>Turkish Airlines</td>\n",
       "      <td>7.0</td>\n",
       "      <td>Economy Class</td>\n",
       "      <td>4.0</td>\n",
       "      <td>5.0</td>\n",
       "      <td>4.0</td>\n",
       "      <td>4.0</td>\n",
       "      <td>yes</td>\n",
       "      <td>0.260263</td>\n",
       "    </tr>\n",
       "    <tr>\n",
       "      <th>3</th>\n",
       "      <td>Turkish Airlines</td>\n",
       "      <td>2.0</td>\n",
       "      <td>Economy Class</td>\n",
       "      <td>4.0</td>\n",
       "      <td>1.0</td>\n",
       "      <td>1.0</td>\n",
       "      <td>1.0</td>\n",
       "      <td>no</td>\n",
       "      <td>0.116667</td>\n",
       "    </tr>\n",
       "  </tbody>\n",
       "</table>\n",
       "</div>"
      ],
      "text/plain": [
       "            airline  overall          cabin  seat_comfort  cabin_service  \\\n",
       "1  Turkish Airlines      7.0  Economy Class           4.0            5.0   \n",
       "3  Turkish Airlines      2.0  Economy Class           4.0            1.0   \n",
       "\n",
       "   food_bev  value_for_money recommended  sentiment_score  \n",
       "1       4.0              4.0         yes         0.260263  \n",
       "3       1.0              1.0          no         0.116667  "
      ]
     },
     "execution_count": 32,
     "metadata": {},
     "output_type": "execute_result"
    }
   ],
   "source": [
    "df.head(2)"
   ]
  },
  {
   "cell_type": "code",
   "execution_count": 33,
   "metadata": {},
   "outputs": [
    {
     "data": {
      "text/html": [
       "<div>\n",
       "<style scoped>\n",
       "    .dataframe tbody tr th:only-of-type {\n",
       "        vertical-align: middle;\n",
       "    }\n",
       "\n",
       "    .dataframe tbody tr th {\n",
       "        vertical-align: top;\n",
       "    }\n",
       "\n",
       "    .dataframe thead th {\n",
       "        text-align: right;\n",
       "    }\n",
       "</style>\n",
       "<table border=\"1\" class=\"dataframe\">\n",
       "  <thead>\n",
       "    <tr style=\"text-align: right;\">\n",
       "      <th></th>\n",
       "      <th>overall</th>\n",
       "      <th>seat_comfort</th>\n",
       "      <th>cabin_service</th>\n",
       "      <th>food_bev</th>\n",
       "      <th>value_for_money</th>\n",
       "      <th>sentiment_score</th>\n",
       "    </tr>\n",
       "  </thead>\n",
       "  <tbody>\n",
       "    <tr>\n",
       "      <th>overall</th>\n",
       "      <td>1.000000</td>\n",
       "      <td>0.751190</td>\n",
       "      <td>0.767011</td>\n",
       "      <td>0.682776</td>\n",
       "      <td>0.868098</td>\n",
       "      <td>0.673955</td>\n",
       "    </tr>\n",
       "    <tr>\n",
       "      <th>seat_comfort</th>\n",
       "      <td>0.751190</td>\n",
       "      <td>1.000000</td>\n",
       "      <td>0.694491</td>\n",
       "      <td>0.635672</td>\n",
       "      <td>0.730349</td>\n",
       "      <td>0.565061</td>\n",
       "    </tr>\n",
       "    <tr>\n",
       "      <th>cabin_service</th>\n",
       "      <td>0.767011</td>\n",
       "      <td>0.694491</td>\n",
       "      <td>1.000000</td>\n",
       "      <td>0.681917</td>\n",
       "      <td>0.730762</td>\n",
       "      <td>0.571178</td>\n",
       "    </tr>\n",
       "    <tr>\n",
       "      <th>food_bev</th>\n",
       "      <td>0.682776</td>\n",
       "      <td>0.635672</td>\n",
       "      <td>0.681917</td>\n",
       "      <td>1.000000</td>\n",
       "      <td>0.650471</td>\n",
       "      <td>0.540217</td>\n",
       "    </tr>\n",
       "    <tr>\n",
       "      <th>value_for_money</th>\n",
       "      <td>0.868098</td>\n",
       "      <td>0.730349</td>\n",
       "      <td>0.730762</td>\n",
       "      <td>0.650471</td>\n",
       "      <td>1.000000</td>\n",
       "      <td>0.618095</td>\n",
       "    </tr>\n",
       "    <tr>\n",
       "      <th>sentiment_score</th>\n",
       "      <td>0.673955</td>\n",
       "      <td>0.565061</td>\n",
       "      <td>0.571178</td>\n",
       "      <td>0.540217</td>\n",
       "      <td>0.618095</td>\n",
       "      <td>1.000000</td>\n",
       "    </tr>\n",
       "  </tbody>\n",
       "</table>\n",
       "</div>"
      ],
      "text/plain": [
       "                  overall  seat_comfort  cabin_service  food_bev  \\\n",
       "overall          1.000000      0.751190       0.767011  0.682776   \n",
       "seat_comfort     0.751190      1.000000       0.694491  0.635672   \n",
       "cabin_service    0.767011      0.694491       1.000000  0.681917   \n",
       "food_bev         0.682776      0.635672       0.681917  1.000000   \n",
       "value_for_money  0.868098      0.730349       0.730762  0.650471   \n",
       "sentiment_score  0.673955      0.565061       0.571178  0.540217   \n",
       "\n",
       "                 value_for_money  sentiment_score  \n",
       "overall                 0.868098         0.673955  \n",
       "seat_comfort            0.730349         0.565061  \n",
       "cabin_service           0.730762         0.571178  \n",
       "food_bev                0.650471         0.540217  \n",
       "value_for_money         1.000000         0.618095  \n",
       "sentiment_score         0.618095         1.000000  "
      ]
     },
     "execution_count": 33,
     "metadata": {},
     "output_type": "execute_result"
    }
   ],
   "source": [
    "num_df=df.select_dtypes(exclude=[\"object\"])\n",
    "num_df.corr()"
   ]
  },
  {
   "cell_type": "code",
   "execution_count": 34,
   "metadata": {},
   "outputs": [
    {
     "data": {
      "image/png": "[encoded data removed]",
      "text/plain": [
       "<Figure size 2000x1000 with 2 Axes>"
      ]
     },
     "metadata": {},
     "output_type": "display_data"
    }
   ],
   "source": [
    "plt.figure (figsize= (20,10))\n",
    "corelation= num_df.corr()\n",
    "sns.heatmap(corelation, annot=True)\n",
    "plt.title(\"HEAT MAP\")\n",
    "plt.show()"
   ]
  },
  {
   "cell_type": "markdown",
   "metadata": {},
   "source": [
    "from The correlation or HEAP MAP model, we can see that the correlation between independent variables and dependent variables but some independent variables are correlated with another independent variables "
   ]
  },
  {
   "cell_type": "markdown",
   "metadata": {},
   "source": [
    "### what is VIF ?"
   ]
  },
  {
   "cell_type": "markdown",
   "metadata": {},
   "source": [
    "- Variance inflation factor (VIF) can be used for feature selection in machine learning analysis. \n",
    "\n",
    "- VIF starts at 1 and has no upper limit\n",
    "- VIF = 1, no correlation between the independent variable and the other variables\n",
    "- VIF exceeding 5 or 10 indicates high multicollinearity between this independent variable and the others"
   ]
  },
  {
   "cell_type": "code",
   "execution_count": 35,
   "metadata": {},
   "outputs": [],
   "source": [
    "# Import library for VIF\n",
    "from statsmodels.stats.outliers_influence import variance_inflation_factor\n",
    "\n",
    "def calc_vif(X):\n",
    "\n",
    "    # Calculating VIF\n",
    "    vif = pd.DataFrame()\n",
    "    vif[\"variables\"] = X.columns\n",
    "    vif[\"VIF\"] = [variance_inflation_factor(X.values, i) for i in range(X.shape[1])]\n",
    "\n",
    "    return(vif)"
   ]
  },
  {
   "cell_type": "code",
   "execution_count": 36,
   "metadata": {},
   "outputs": [
    {
     "data": {
      "text/html": [
       "<div>\n",
       "<style scoped>\n",
       "    .dataframe tbody tr th:only-of-type {\n",
       "        vertical-align: middle;\n",
       "    }\n",
       "\n",
       "    .dataframe tbody tr th {\n",
       "        vertical-align: top;\n",
       "    }\n",
       "\n",
       "    .dataframe thead th {\n",
       "        text-align: right;\n",
       "    }\n",
       "</style>\n",
       "<table border=\"1\" class=\"dataframe\">\n",
       "  <thead>\n",
       "    <tr style=\"text-align: right;\">\n",
       "      <th></th>\n",
       "      <th>variables</th>\n",
       "      <th>VIF</th>\n",
       "    </tr>\n",
       "  </thead>\n",
       "  <tbody>\n",
       "    <tr>\n",
       "      <th>0</th>\n",
       "      <td>overall</td>\n",
       "      <td>16.936651</td>\n",
       "    </tr>\n",
       "    <tr>\n",
       "      <th>1</th>\n",
       "      <td>seat_comfort</td>\n",
       "      <td>13.659860</td>\n",
       "    </tr>\n",
       "    <tr>\n",
       "      <th>2</th>\n",
       "      <td>cabin_service</td>\n",
       "      <td>15.144097</td>\n",
       "    </tr>\n",
       "    <tr>\n",
       "      <th>3</th>\n",
       "      <td>food_bev</td>\n",
       "      <td>11.567809</td>\n",
       "    </tr>\n",
       "    <tr>\n",
       "      <th>4</th>\n",
       "      <td>value_for_money</td>\n",
       "      <td>19.284581</td>\n",
       "    </tr>\n",
       "    <tr>\n",
       "      <th>5</th>\n",
       "      <td>sentiment_score</td>\n",
       "      <td>2.165313</td>\n",
       "    </tr>\n",
       "  </tbody>\n",
       "</table>\n",
       "</div>"
      ],
      "text/plain": [
       "         variables        VIF\n",
       "0          overall  16.936651\n",
       "1     seat_comfort  13.659860\n",
       "2    cabin_service  15.144097\n",
       "3         food_bev  11.567809\n",
       "4  value_for_money  19.284581\n",
       "5  sentiment_score   2.165313"
      ]
     },
     "execution_count": 36,
     "metadata": {},
     "output_type": "execute_result"
    }
   ],
   "source": [
    "# finding multicollinear and dropout that value\n",
    "calc_vif(df[[i for i in df.describe().columns if i not in [\"recommended\"]]])"
   ]
  },
  {
   "cell_type": "code",
   "execution_count": 37,
   "metadata": {},
   "outputs": [
    {
     "data": {
      "text/html": [
       "<div>\n",
       "<style scoped>\n",
       "    .dataframe tbody tr th:only-of-type {\n",
       "        vertical-align: middle;\n",
       "    }\n",
       "\n",
       "    .dataframe tbody tr th {\n",
       "        vertical-align: top;\n",
       "    }\n",
       "\n",
       "    .dataframe thead th {\n",
       "        text-align: right;\n",
       "    }\n",
       "</style>\n",
       "<table border=\"1\" class=\"dataframe\">\n",
       "  <thead>\n",
       "    <tr style=\"text-align: right;\">\n",
       "      <th></th>\n",
       "      <th>variables</th>\n",
       "      <th>VIF</th>\n",
       "    </tr>\n",
       "  </thead>\n",
       "  <tbody>\n",
       "    <tr>\n",
       "      <th>0</th>\n",
       "      <td>overall</td>\n",
       "      <td>11.869601</td>\n",
       "    </tr>\n",
       "    <tr>\n",
       "      <th>1</th>\n",
       "      <td>seat_comfort</td>\n",
       "      <td>12.762900</td>\n",
       "    </tr>\n",
       "    <tr>\n",
       "      <th>2</th>\n",
       "      <td>cabin_service</td>\n",
       "      <td>14.637109</td>\n",
       "    </tr>\n",
       "    <tr>\n",
       "      <th>3</th>\n",
       "      <td>food_bev</td>\n",
       "      <td>11.320902</td>\n",
       "    </tr>\n",
       "    <tr>\n",
       "      <th>4</th>\n",
       "      <td>sentiment_score</td>\n",
       "      <td>2.163334</td>\n",
       "    </tr>\n",
       "  </tbody>\n",
       "</table>\n",
       "</div>"
      ],
      "text/plain": [
       "         variables        VIF\n",
       "0          overall  11.869601\n",
       "1     seat_comfort  12.762900\n",
       "2    cabin_service  14.637109\n",
       "3         food_bev  11.320902\n",
       "4  sentiment_score   2.163334"
      ]
     },
     "execution_count": 37,
     "metadata": {},
     "output_type": "execute_result"
    }
   ],
   "source": [
    "# finding multicollinear and dropout that value\n",
    "calc_vif(df[[i for i in df.describe().columns if i not in [\"recommended\",\"value_for_money\"]]])"
   ]
  },
  {
   "cell_type": "code",
   "execution_count": 38,
   "metadata": {},
   "outputs": [
    {
     "data": {
      "text/html": [
       "<div>\n",
       "<style scoped>\n",
       "    .dataframe tbody tr th:only-of-type {\n",
       "        vertical-align: middle;\n",
       "    }\n",
       "\n",
       "    .dataframe tbody tr th {\n",
       "        vertical-align: top;\n",
       "    }\n",
       "\n",
       "    .dataframe thead th {\n",
       "        text-align: right;\n",
       "    }\n",
       "</style>\n",
       "<table border=\"1\" class=\"dataframe\">\n",
       "  <thead>\n",
       "    <tr style=\"text-align: right;\">\n",
       "      <th></th>\n",
       "      <th>variables</th>\n",
       "      <th>VIF</th>\n",
       "    </tr>\n",
       "  </thead>\n",
       "  <tbody>\n",
       "    <tr>\n",
       "      <th>0</th>\n",
       "      <td>overall</td>\n",
       "      <td>10.495817</td>\n",
       "    </tr>\n",
       "    <tr>\n",
       "      <th>1</th>\n",
       "      <td>seat_comfort</td>\n",
       "      <td>11.279405</td>\n",
       "    </tr>\n",
       "    <tr>\n",
       "      <th>2</th>\n",
       "      <td>food_bev</td>\n",
       "      <td>9.227324</td>\n",
       "    </tr>\n",
       "    <tr>\n",
       "      <th>3</th>\n",
       "      <td>sentiment_score</td>\n",
       "      <td>2.157770</td>\n",
       "    </tr>\n",
       "  </tbody>\n",
       "</table>\n",
       "</div>"
      ],
      "text/plain": [
       "         variables        VIF\n",
       "0          overall  10.495817\n",
       "1     seat_comfort  11.279405\n",
       "2         food_bev   9.227324\n",
       "3  sentiment_score   2.157770"
      ]
     },
     "execution_count": 38,
     "metadata": {},
     "output_type": "execute_result"
    }
   ],
   "source": [
    "# finding multicollinear and dropout that value\n",
    "calc_vif(df[[i for i in df.describe().columns if i not in [\"recommended\",\"value_for_money\",\"cabin_service\"]]])"
   ]
  },
  {
   "cell_type": "code",
   "execution_count": 39,
   "metadata": {},
   "outputs": [
    {
     "data": {
      "text/html": [
       "<div>\n",
       "<style scoped>\n",
       "    .dataframe tbody tr th:only-of-type {\n",
       "        vertical-align: middle;\n",
       "    }\n",
       "\n",
       "    .dataframe tbody tr th {\n",
       "        vertical-align: top;\n",
       "    }\n",
       "\n",
       "    .dataframe thead th {\n",
       "        text-align: right;\n",
       "    }\n",
       "</style>\n",
       "<table border=\"1\" class=\"dataframe\">\n",
       "  <thead>\n",
       "    <tr style=\"text-align: right;\">\n",
       "      <th></th>\n",
       "      <th>variables</th>\n",
       "      <th>VIF</th>\n",
       "    </tr>\n",
       "  </thead>\n",
       "  <tbody>\n",
       "    <tr>\n",
       "      <th>0</th>\n",
       "      <td>overall</td>\n",
       "      <td>7.892296</td>\n",
       "    </tr>\n",
       "    <tr>\n",
       "      <th>1</th>\n",
       "      <td>food_bev</td>\n",
       "      <td>6.201192</td>\n",
       "    </tr>\n",
       "    <tr>\n",
       "      <th>2</th>\n",
       "      <td>sentiment_score</td>\n",
       "      <td>2.145812</td>\n",
       "    </tr>\n",
       "  </tbody>\n",
       "</table>\n",
       "</div>"
      ],
      "text/plain": [
       "         variables       VIF\n",
       "0          overall  7.892296\n",
       "1         food_bev  6.201192\n",
       "2  sentiment_score  2.145812"
      ]
     },
     "execution_count": 39,
     "metadata": {},
     "output_type": "execute_result"
    }
   ],
   "source": [
    "# finding multicollinear and dropout that value\n",
    "calc_vif(df[[i for i in df.describe().columns if i not in [\"recommended\",\"value_for_money\",\"cabin_service\",\"seat_comfort\"]]])"
   ]
  },
  {
   "cell_type": "code",
   "execution_count": 40,
   "metadata": {},
   "outputs": [
    {
     "data": {
      "text/html": [
       "<div>\n",
       "<style scoped>\n",
       "    .dataframe tbody tr th:only-of-type {\n",
       "        vertical-align: middle;\n",
       "    }\n",
       "\n",
       "    .dataframe tbody tr th {\n",
       "        vertical-align: top;\n",
       "    }\n",
       "\n",
       "    .dataframe thead th {\n",
       "        text-align: right;\n",
       "    }\n",
       "</style>\n",
       "<table border=\"1\" class=\"dataframe\">\n",
       "  <thead>\n",
       "    <tr style=\"text-align: right;\">\n",
       "      <th></th>\n",
       "      <th>variables</th>\n",
       "      <th>VIF</th>\n",
       "    </tr>\n",
       "  </thead>\n",
       "  <tbody>\n",
       "    <tr>\n",
       "      <th>0</th>\n",
       "      <td>food_bev</td>\n",
       "      <td>1.662385</td>\n",
       "    </tr>\n",
       "    <tr>\n",
       "      <th>1</th>\n",
       "      <td>sentiment_score</td>\n",
       "      <td>1.662385</td>\n",
       "    </tr>\n",
       "  </tbody>\n",
       "</table>\n",
       "</div>"
      ],
      "text/plain": [
       "         variables       VIF\n",
       "0         food_bev  1.662385\n",
       "1  sentiment_score  1.662385"
      ]
     },
     "execution_count": 40,
     "metadata": {},
     "output_type": "execute_result"
    }
   ],
   "source": [
    "# finding multicollinear and dropout that value\n",
    "calc_vif(df[[i for i in df.describe().columns if i not in [\"recommended\",\"value_for_money\",\"cabin_service\",\"seat_comfort\",\"overall\"]]])"
   ]
  },
  {
   "cell_type": "code",
   "execution_count": 41,
   "metadata": {},
   "outputs": [],
   "source": [
    "df.drop(columns=[\"value_for_money\",\"cabin_service\",\"seat_comfort\",\"overall\"],inplace=True,axis=1)"
   ]
  },
  {
   "cell_type": "code",
   "execution_count": 42,
   "metadata": {},
   "outputs": [
    {
     "data": {
      "text/plain": [
       "Index(['airline', 'cabin', 'food_bev', 'recommended', 'sentiment_score'], dtype='object')"
      ]
     },
     "execution_count": 42,
     "metadata": {},
     "output_type": "execute_result"
    }
   ],
   "source": [
    "df.columns"
   ]
  },
  {
   "cell_type": "code",
   "execution_count": 43,
   "metadata": {},
   "outputs": [
    {
     "data": {
      "text/html": [
       "<div>\n",
       "<style scoped>\n",
       "    .dataframe tbody tr th:only-of-type {\n",
       "        vertical-align: middle;\n",
       "    }\n",
       "\n",
       "    .dataframe tbody tr th {\n",
       "        vertical-align: top;\n",
       "    }\n",
       "\n",
       "    .dataframe thead th {\n",
       "        text-align: right;\n",
       "    }\n",
       "</style>\n",
       "<table border=\"1\" class=\"dataframe\">\n",
       "  <thead>\n",
       "    <tr style=\"text-align: right;\">\n",
       "      <th></th>\n",
       "      <th>airline</th>\n",
       "      <th>cabin</th>\n",
       "      <th>food_bev</th>\n",
       "      <th>recommended</th>\n",
       "      <th>sentiment_score</th>\n",
       "    </tr>\n",
       "  </thead>\n",
       "  <tbody>\n",
       "    <tr>\n",
       "      <th>1</th>\n",
       "      <td>Turkish Airlines</td>\n",
       "      <td>Economy Class</td>\n",
       "      <td>4.0</td>\n",
       "      <td>yes</td>\n",
       "      <td>0.260263</td>\n",
       "    </tr>\n",
       "    <tr>\n",
       "      <th>3</th>\n",
       "      <td>Turkish Airlines</td>\n",
       "      <td>Economy Class</td>\n",
       "      <td>1.0</td>\n",
       "      <td>no</td>\n",
       "      <td>0.116667</td>\n",
       "    </tr>\n",
       "  </tbody>\n",
       "</table>\n",
       "</div>"
      ],
      "text/plain": [
       "            airline          cabin  food_bev recommended  sentiment_score\n",
       "1  Turkish Airlines  Economy Class       4.0         yes         0.260263\n",
       "3  Turkish Airlines  Economy Class       1.0          no         0.116667"
      ]
     },
     "execution_count": 43,
     "metadata": {},
     "output_type": "execute_result"
    }
   ],
   "source": [
    "df.head(2)"
   ]
  },
  {
   "cell_type": "markdown",
   "metadata": {},
   "source": [
    "### Split X and Y"
   ]
  },
  {
   "cell_type": "markdown",
   "metadata": {},
   "source": [
    "* **Split Dataframe to X and y**\n",
    "* **Here we set a variable X i.e, independent columns, and a variable y i.e, dependent column as the ```recommended``` column.**"
   ]
  },
  {
   "cell_type": "markdown",
   "metadata": {},
   "source": []
  },
  {
   "cell_type": "code",
   "execution_count": 44,
   "metadata": {},
   "outputs": [],
   "source": [
    "X = df.drop('recommended', axis=1)\n",
    "y = df['recommended']"
   ]
  },
  {
   "cell_type": "code",
   "execution_count": 45,
   "metadata": {},
   "outputs": [
    {
     "data": {
      "text/plain": [
       "1    yes\n",
       "3     no\n",
       "5     no\n",
       "7    yes\n",
       "9     no\n",
       "Name: recommended, dtype: object"
      ]
     },
     "execution_count": 45,
     "metadata": {},
     "output_type": "execute_result"
    }
   ],
   "source": [
    "y.head()"
   ]
  },
  {
   "cell_type": "code",
   "execution_count": 46,
   "metadata": {},
   "outputs": [],
   "source": [
    "# If the target column has Denied it is encoded as 1 others as 0\n",
    "y= np.where(y=='yes', 1,0)"
   ]
  },
  {
   "cell_type": "code",
   "execution_count": 47,
   "metadata": {},
   "outputs": [
    {
     "data": {
      "text/plain": [
       "array([1, 0, 0, ..., 0, 0, 0])"
      ]
     },
     "execution_count": 47,
     "metadata": {},
     "output_type": "execute_result"
    }
   ],
   "source": [
    "\n",
    "y"
   ]
  },
  {
   "cell_type": "markdown",
   "metadata": {},
   "source": [
    "## Feature Transformation"
   ]
  },
  {
   "cell_type": "code",
   "execution_count": 48,
   "metadata": {},
   "outputs": [
    {
     "name": "stdout",
     "output_type": "stream",
     "text": [
      "\n",
      "We have 1 continuous_features : ['sentiment_score']\n"
     ]
    }
   ],
   "source": [
    "num_features = [feature for feature in df.columns if df[feature].dtype != 'O']\n",
    "continuous_features=[feature for feature in num_features if len(df[feature].unique()) > 25]\n",
    "\n",
    "print('\\nWe have {} continuous_features : {}'.format(len(continuous_features), continuous_features))"
   ]
  },
  {
   "cell_type": "code",
   "execution_count": 49,
   "metadata": {},
   "outputs": [
    {
     "data": {
      "image/png": "[encoded data removed]",
      "text/plain": [
       "<Figure size 1500x1200 with 1 Axes>"
      ]
     },
     "metadata": {},
     "output_type": "display_data"
    }
   ],
   "source": [
    "\n",
    "plt.figure(figsize=(15, 12))\n",
    "for i, col in enumerate(['sentiment_score']):\n",
    "    plt.subplot(3, 3, i+1)\n",
    "    sns.histplot(x=X[col], color='indianred',kde=True)\n",
    "    plt.xlabel(col)\n",
    "    plt.tight_layout()\n"
   ]
  },
  {
   "cell_type": "code",
   "execution_count": 50,
   "metadata": {},
   "outputs": [
    {
     "data": {
      "text/plain": [
       "sentiment_score   -0.067405\n",
       "dtype: float64"
      ]
     },
     "execution_count": 50,
     "metadata": {},
     "output_type": "execute_result"
    }
   ],
   "source": [
    "# Check Skewness\n",
    "X[continuous_features].skew(axis=0, skipna=True)"
   ]
  },
  {
   "cell_type": "markdown",
   "metadata": {},
   "source": [
    "## Apply Power Transformer to Check if it can reduces the outliers"
   ]
  },
  {
   "cell_type": "code",
   "execution_count": 51,
   "metadata": {},
   "outputs": [],
   "source": [
    "from sklearn.preprocessing import PowerTransformer\n",
    "pt = PowerTransformer(method='yeo-johnson')\n",
    "transform_features = ['sentiment_score']\n",
    "X_copy = pt.fit_transform(X[transform_features])"
   ]
  },
  {
   "cell_type": "code",
   "execution_count": 52,
   "metadata": {},
   "outputs": [],
   "source": [
    "X_copy = pd.DataFrame(X_copy, columns=transform_features)"
   ]
  },
  {
   "cell_type": "code",
   "execution_count": 53,
   "metadata": {},
   "outputs": [
    {
     "data": {
      "image/png": "[encoded data removed]",
      "text/plain": [
       "<Figure size 1500x1500 with 1 Axes>"
      ]
     },
     "metadata": {},
     "output_type": "display_data"
    }
   ],
   "source": [
    "plt.figure(figsize=(15, 15))\n",
    "for i, col in enumerate(transform_features):\n",
    "    plt.subplot(3, 3, i+1)\n",
    "    sns.histplot(x=X_copy[col], color='indianred')\n",
    "    plt.xlabel(col)\n",
    "    plt.tight_layout()"
   ]
  },
  {
   "cell_type": "markdown",
   "metadata": {},
   "source": [
    "## After applying the yeo-johnson transformation all contiune features are removed right skewed and the resulting contiune features are approximately symmetric distributions.\n",
    "\n",
    "\n",
    "\n",
    "\n",
    "\n"
   ]
  },
  {
   "cell_type": "markdown",
   "metadata": {},
   "source": [
    "- Here Yeo-Johnson is used and it supports both positive or negative data for transformation.\n",
    "- So Power Transformer with yeo-johnson can be used."
   ]
  },
  {
   "cell_type": "code",
   "execution_count": 54,
   "metadata": {},
   "outputs": [
    {
     "data": {
      "text/html": [
       "<div>\n",
       "<style scoped>\n",
       "    .dataframe tbody tr th:only-of-type {\n",
       "        vertical-align: middle;\n",
       "    }\n",
       "\n",
       "    .dataframe tbody tr th {\n",
       "        vertical-align: top;\n",
       "    }\n",
       "\n",
       "    .dataframe thead th {\n",
       "        text-align: right;\n",
       "    }\n",
       "</style>\n",
       "<table border=\"1\" class=\"dataframe\">\n",
       "  <thead>\n",
       "    <tr style=\"text-align: right;\">\n",
       "      <th></th>\n",
       "      <th>sentiment_score</th>\n",
       "    </tr>\n",
       "  </thead>\n",
       "  <tbody>\n",
       "    <tr>\n",
       "      <th>0</th>\n",
       "      <td>0.706135</td>\n",
       "    </tr>\n",
       "    <tr>\n",
       "      <th>1</th>\n",
       "      <td>0.008852</td>\n",
       "    </tr>\n",
       "    <tr>\n",
       "      <th>2</th>\n",
       "      <td>-0.456854</td>\n",
       "    </tr>\n",
       "    <tr>\n",
       "      <th>3</th>\n",
       "      <td>1.122325</td>\n",
       "    </tr>\n",
       "    <tr>\n",
       "      <th>4</th>\n",
       "      <td>0.372060</td>\n",
       "    </tr>\n",
       "    <tr>\n",
       "      <th>...</th>\n",
       "      <td>...</td>\n",
       "    </tr>\n",
       "    <tr>\n",
       "      <th>61178</th>\n",
       "      <td>0.884120</td>\n",
       "    </tr>\n",
       "    <tr>\n",
       "      <th>61179</th>\n",
       "      <td>1.044439</td>\n",
       "    </tr>\n",
       "    <tr>\n",
       "      <th>61180</th>\n",
       "      <td>-0.300817</td>\n",
       "    </tr>\n",
       "    <tr>\n",
       "      <th>61181</th>\n",
       "      <td>-0.715568</td>\n",
       "    </tr>\n",
       "    <tr>\n",
       "      <th>61182</th>\n",
       "      <td>1.268682</td>\n",
       "    </tr>\n",
       "  </tbody>\n",
       "</table>\n",
       "<p>61183 rows × 1 columns</p>\n",
       "</div>"
      ],
      "text/plain": [
       "       sentiment_score\n",
       "0             0.706135\n",
       "1             0.008852\n",
       "2            -0.456854\n",
       "3             1.122325\n",
       "4             0.372060\n",
       "...                ...\n",
       "61178         0.884120\n",
       "61179         1.044439\n",
       "61180        -0.300817\n",
       "61181        -0.715568\n",
       "61182         1.268682\n",
       "\n",
       "[61183 rows x 1 columns]"
      ]
     },
     "execution_count": 54,
     "metadata": {},
     "output_type": "execute_result"
    }
   ],
   "source": [
    "\n",
    "X_copy"
   ]
  },
  {
   "cell_type": "code",
   "execution_count": 55,
   "metadata": {},
   "outputs": [
    {
     "name": "stdout",
     "output_type": "stream",
     "text": [
      "airline : 81\n",
      "cabin : 4\n",
      "recommended : 2\n"
     ]
    }
   ],
   "source": [
    "for feature in cat_features:\n",
    "    print(feature,':', df[feature].nunique())"
   ]
  },
  {
   "cell_type": "markdown",
   "metadata": {},
   "source": [
    " **One Hot Encoding for Columns which had lesser unique values and not ordinal**\n",
    "* One hot encoding is a process by which categorical variables are converted into a form that could be provided to ML algorithms to do a better job in prediction.\n",
    "\n",
    "**Ordinal Encoding for Columns which has many unique categories** \n",
    "* Ordinal encoding is used here as label encoder is supported for column transformer.\n",
    "* Ordinal encoding is used for Ordinal Variable. Variable comprises a finite set of discrete values with a ranked ordering between values.\n",
    "\n",
    "**Standard Scaler** \n",
    "* Standardize features by removing the mean and scaling to unit variance.\n",
    "\n",
    "**Power Transformer**\n",
    "* Power transforms are a technique for transforming numerical input or output variables to have a Gaussian or more-Gaussian-like probability distribution."
   ]
  },
  {
   "cell_type": "markdown",
   "metadata": {},
   "source": [
    "**Selecting number features for preprocessing**"
   ]
  },
  {
   "cell_type": "code",
   "execution_count": 56,
   "metadata": {},
   "outputs": [],
   "source": [
    "num_features = list(X.select_dtypes(exclude=\"object\").columns)"
   ]
  },
  {
   "cell_type": "code",
   "execution_count": 57,
   "metadata": {},
   "outputs": [
    {
     "data": {
      "text/plain": [
       "['food_bev', 'sentiment_score']"
      ]
     },
     "execution_count": 57,
     "metadata": {},
     "output_type": "execute_result"
    }
   ],
   "source": [
    "num_features"
   ]
  },
  {
   "cell_type": "code",
   "execution_count": 58,
   "metadata": {},
   "outputs": [
    {
     "data": {
      "text/html": [
       "<div>\n",
       "<style scoped>\n",
       "    .dataframe tbody tr th:only-of-type {\n",
       "        vertical-align: middle;\n",
       "    }\n",
       "\n",
       "    .dataframe tbody tr th {\n",
       "        vertical-align: top;\n",
       "    }\n",
       "\n",
       "    .dataframe thead th {\n",
       "        text-align: right;\n",
       "    }\n",
       "</style>\n",
       "<table border=\"1\" class=\"dataframe\">\n",
       "  <thead>\n",
       "    <tr style=\"text-align: right;\">\n",
       "      <th></th>\n",
       "      <th>airline</th>\n",
       "      <th>cabin</th>\n",
       "      <th>food_bev</th>\n",
       "      <th>recommended</th>\n",
       "      <th>sentiment_score</th>\n",
       "    </tr>\n",
       "  </thead>\n",
       "  <tbody>\n",
       "    <tr>\n",
       "      <th>1</th>\n",
       "      <td>Turkish Airlines</td>\n",
       "      <td>Economy Class</td>\n",
       "      <td>4.0</td>\n",
       "      <td>yes</td>\n",
       "      <td>0.260263</td>\n",
       "    </tr>\n",
       "    <tr>\n",
       "      <th>3</th>\n",
       "      <td>Turkish Airlines</td>\n",
       "      <td>Economy Class</td>\n",
       "      <td>1.0</td>\n",
       "      <td>no</td>\n",
       "      <td>0.116667</td>\n",
       "    </tr>\n",
       "  </tbody>\n",
       "</table>\n",
       "</div>"
      ],
      "text/plain": [
       "            airline          cabin  food_bev recommended  sentiment_score\n",
       "1  Turkish Airlines  Economy Class       4.0         yes         0.260263\n",
       "3  Turkish Airlines  Economy Class       1.0          no         0.116667"
      ]
     },
     "execution_count": 58,
     "metadata": {},
     "output_type": "execute_result"
    }
   ],
   "source": [
    "df.head(2)"
   ]
  },
  {
   "cell_type": "markdown",
   "metadata": {},
   "source": [
    "### **Preprocessing using Column Transformer**"
   ]
  },
  {
   "cell_type": "code",
   "execution_count": 59,
   "metadata": {},
   "outputs": [],
   "source": [
    "# we can use code for another projects\n",
    "# Create Column Transformer with 3 types of transformers\n",
    "#or_columns = ['has_job_experience','requires_job_training','full_time_position','education_of_employee']\n",
    "\n",
    "or_columns = [\"airline\",\"cabin\"]\n",
    "\n",
    "transform_columns= ['sentiment_score']\n",
    "\n",
    "from sklearn.preprocessing import OneHotEncoder, StandardScaler,OrdinalEncoder, PowerTransformer\n",
    "from sklearn.compose import ColumnTransformer \n",
    "from sklearn.pipeline import Pipeline\n",
    "\n",
    "numeric_transformer = StandardScaler()\n",
    "#oh_transformer = OneHotEncoder()\n",
    "ordinal_encoder = OrdinalEncoder()\n",
    "\n",
    "transform_pipe = Pipeline(steps=[\n",
    "    ('transformer', PowerTransformer(method='yeo-johnson'))\n",
    "])\n",
    "\n",
    "preprocessor = ColumnTransformer([\n",
    "   #  [   (\"OneHotEncoder\", oh_transformer, oh_columns),\n",
    "        (\"Ordinal_Encoder\", ordinal_encoder, or_columns),\n",
    "        (\"Transformer\", transform_pipe, transform_columns),\n",
    "        (\"StandardScaler\", numeric_transformer, num_features)\n",
    "    ]\n",
    ")"
   ]
  },
  {
   "cell_type": "code",
   "execution_count": 60,
   "metadata": {},
   "outputs": [],
   "source": [
    "X = preprocessor.fit_transform(X)"
   ]
  },
  {
   "cell_type": "code",
   "execution_count": 61,
   "metadata": {},
   "outputs": [
    {
     "data": {
      "text/plain": [
       "array([[ 7.10000000e+01,  1.00000000e+00,  7.06134747e-01,\n",
       "         8.13959185e-01,  7.09525289e-01],\n",
       "       [ 7.10000000e+01,  1.00000000e+00,  8.85231988e-03,\n",
       "        -1.46169633e+00,  1.72503382e-02],\n",
       "       [ 7.10000000e+01,  1.00000000e+00, -4.56853865e-01,\n",
       "        -1.46169633e+00, -4.49726117e-01],\n",
       "       ...,\n",
       "       [ 7.20000000e+01,  1.00000000e+00, -3.00816816e-01,\n",
       "         3.36864687e-16, -2.92820485e-01],\n",
       "       [ 7.20000000e+01,  1.00000000e+00, -7.15568404e-01,\n",
       "         3.36864687e-16, -7.10916647e-01],\n",
       "       [ 7.20000000e+01,  1.00000000e+00,  1.26868199e+00,\n",
       "         3.36864687e-16,  1.26266697e+00]])"
      ]
     },
     "execution_count": 61,
     "metadata": {},
     "output_type": "execute_result"
    }
   ],
   "source": [
    "X"
   ]
  },
  {
   "cell_type": "code",
   "execution_count": 62,
   "metadata": {},
   "outputs": [
    {
     "data": {
      "text/plain": [
       "(61183, 5)"
      ]
     },
     "execution_count": 62,
     "metadata": {},
     "output_type": "execute_result"
    }
   ],
   "source": [
    "X.shape"
   ]
  },
  {
   "cell_type": "markdown",
   "metadata": {},
   "source": [
    "## Classification"
   ]
  },
  {
   "cell_type": "code",
   "execution_count": 63,
   "metadata": {},
   "outputs": [
    {
     "data": {
      "text/plain": [
       "(61183,)"
      ]
     },
     "execution_count": 63,
     "metadata": {},
     "output_type": "execute_result"
    }
   ],
   "source": [
    "y.shape"
   ]
  },
  {
   "cell_type": "markdown",
   "metadata": {},
   "source": [
    "- No need smote technquie because data is balanced"
   ]
  },
  {
   "cell_type": "code",
   "execution_count": 64,
   "metadata": {},
   "outputs": [],
   "source": [
    "#from collections import Counter\n",
    "#from imblearn.combine import SMOTETomek, SMOTEENN\n",
    "\n",
    "# Resampling the minority class. The strategy can be changed as required.\n",
    "#smt = SMOTEENN(random_state=42,sampling_strategy='minority' )\n",
    "# Fit the model to generate the data.\n",
    "#print(len(X),len(y))\n",
    "#X_res, y_res = smt.fit_resample(X, y)\n",
    "#len(X_res), len(y_res) "
   ]
  },
  {
   "cell_type": "code",
   "execution_count": 65,
   "metadata": {},
   "outputs": [
    {
     "data": {
      "text/plain": [
       "((48946, 5), (12237, 5))"
      ]
     },
     "execution_count": 65,
     "metadata": {},
     "output_type": "execute_result"
    }
   ],
   "source": [
    "from sklearn.model_selection import  train_test_split\n",
    "# separate dataset into train and test\n",
    "X_train, X_test, y_train, y_test = train_test_split(X,y,test_size=0.2,random_state=42)\n",
    "X_train.shape, X_test.shape"
   ]
  },
  {
   "cell_type": "code",
   "execution_count": 66,
   "metadata": {},
   "outputs": [],
   "source": [
    "\n",
    "from sklearn.ensemble import RandomForestClassifier, AdaBoostClassifier, GradientBoostingClassifier\n",
    "from sklearn.linear_model import LogisticRegression\n",
    "from sklearn.neighbors import KNeighborsClassifier\n",
    "from sklearn.tree import DecisionTreeClassifier\n",
    "from sklearn.svm import SVC\n",
    "from sklearn.metrics import accuracy_score, classification_report,ConfusionMatrixDisplay, \\\n",
    "                            precision_score, recall_score, f1_score, roc_auc_score,roc_curve \n",
    "from xgboost import XGBClassifier\n",
    "from catboost import CatBoostClassifier"
   ]
  },
  {
   "cell_type": "code",
   "execution_count": 67,
   "metadata": {},
   "outputs": [],
   "source": [
    "def evaluate_clf(true, predicted):\n",
    "    accuracy = accuracy_score(true, predicted) # Calculate Accuracy\n",
    "    f1 = f1_score(true, predicted) # Calculate F1-score\n",
    "    precision = precision_score(true, predicted) # Calculate Precision\n",
    "    recall = recall_score(true, predicted)  # Calculate Recall\n",
    "    roc_auc = roc_auc_score(true, predicted) #Calculate Roc\n",
    "    return accuracy, f1 , precision, recall, roc_auc"
   ]
  },
  {
   "cell_type": "code",
   "execution_count": 68,
   "metadata": {},
   "outputs": [],
   "source": [
    "models = {\n",
    "    \"Random Forest\": RandomForestClassifier(),\n",
    "    \"Decision Tree\": DecisionTreeClassifier(),\n",
    "    \"Gradient Boosting\": GradientBoostingClassifier(),\n",
    "    \"Logistic Regression\": LogisticRegression(),\n",
    "     \"K-Neighbors Classifier\": KNeighborsClassifier(),\n",
    "    \"XGBClassifier\": XGBClassifier(), \n",
    "     \"CatBoosting Classifier\": CatBoostClassifier(verbose=False),\n",
    "     \"Support Vector Classifier\": SVC(),\n",
    "    \"AdaBoost Classifier\": AdaBoostClassifier()\n",
    "\n",
    "}\n"
   ]
  },
  {
   "cell_type": "code",
   "execution_count": 69,
   "metadata": {},
   "outputs": [],
   "source": [
    "# Create a function which can evaluate models and return a report \n",
    "def evaluate_models(X, y, models):\n",
    "    '''\n",
    "    This function takes in X and y and models dictionary as input\n",
    "    It splits the data into Train Test split\n",
    "    Iterates through the given model dictionary and evaluates the metrics\n",
    "    Returns: Dataframe which contains report of all models metrics with cost\n",
    "    '''\n",
    "    # separate dataset into train and test\n",
    "    X_train, X_test, y_train, y_test = train_test_split(X, y,test_size=0.2,random_state=42)\n",
    "    \n",
    "    models_list = []\n",
    "    accuracy_list = []\n",
    "    auc= []\n",
    "    \n",
    "    for i in range(len(list(models))):\n",
    "        model = list(models.values())[i]\n",
    "        model.fit(X_train, y_train) # Train model\n",
    "\n",
    "        # Make predictions\n",
    "        y_train_pred = model.predict(X_train)\n",
    "        y_test_pred = model.predict(X_test)\n",
    "\n",
    "        # Training set performance\n",
    "        model_train_accuracy, model_train_f1,model_train_precision,\\\n",
    "        model_train_recall,model_train_rocauc_score=evaluate_clf(y_train ,y_train_pred)\n",
    "\n",
    "\n",
    "        # Test set performance\n",
    "        model_test_accuracy,model_test_f1,model_test_precision,\\\n",
    "        model_test_recall,model_test_rocauc_score=evaluate_clf(y_test, y_test_pred)\n",
    "\n",
    "        print(list(models.keys())[i])\n",
    "        models_list.append(list(models.keys())[i])\n",
    "\n",
    "        print('Model performance for Training set')\n",
    "        print(\"- Accuracy: {:.4f}\".format(model_train_accuracy))\n",
    "        print('- F1 score: {:.4f}'.format(model_train_f1)) \n",
    "        print('- Precision: {:.4f}'.format(model_train_precision))\n",
    "        print('- Recall: {:.4f}'.format(model_train_recall))\n",
    "        print('- Roc Auc Score: {:.4f}'.format(model_train_rocauc_score))\n",
    "\n",
    "        print('----------------------------------')\n",
    "\n",
    "        print('Model performance for Test set')\n",
    "        print('- Accuracy: {:.4f}'.format(model_test_accuracy))\n",
    "        accuracy_list.append(model_test_accuracy)\n",
    "        print('- F1 score: {:.4f}'.format(model_test_f1))\n",
    "        print('- Precision: {:.4f}'.format(model_test_precision))\n",
    "        print('- Recall: {:.4f}'.format(model_test_recall))\n",
    "        print('- Roc Auc Score: {:.4f}'.format(model_test_rocauc_score))\n",
    "        auc.append(model_test_rocauc_score)\n",
    "        print('='*35)\n",
    "        print('\\n')\n",
    "        \n",
    "    report=pd.DataFrame(list(zip(models_list, accuracy_list)), columns=['Model Name', 'Accuracy']).sort_values(by=['Accuracy'], ascending=False)\n",
    "        \n",
    "    return report"
   ]
  },
  {
   "cell_type": "markdown",
   "metadata": {},
   "source": [
    "## Model Training "
   ]
  },
  {
   "cell_type": "code",
   "execution_count": 70,
   "metadata": {},
   "outputs": [
    {
     "name": "stdout",
     "output_type": "stream",
     "text": [
      "Random Forest\n",
      "Model performance for Training set\n",
      "- Accuracy: 0.9976\n",
      "- F1 score: 0.9974\n",
      "- Precision: 0.9980\n",
      "- Recall: 0.9967\n",
      "- Roc Auc Score: 0.9975\n",
      "----------------------------------\n",
      "Model performance for Test set\n",
      "- Accuracy: 0.8523\n",
      "- F1 score: 0.8400\n",
      "- Precision: 0.8529\n",
      "- Recall: 0.8274\n",
      "- Roc Auc Score: 0.8508\n",
      "===================================\n",
      "\n",
      "\n",
      "Decision Tree\n",
      "Model performance for Training set\n",
      "- Accuracy: 0.9976\n",
      "- F1 score: 0.9974\n",
      "- Precision: 0.9995\n",
      "- Recall: 0.9953\n",
      "- Roc Auc Score: 0.9975\n",
      "----------------------------------\n",
      "Model performance for Test set\n",
      "- Accuracy: 0.8165\n",
      "- F1 score: 0.8042\n",
      "- Precision: 0.8039\n",
      "- Recall: 0.8046\n",
      "- Roc Auc Score: 0.8158\n",
      "===================================\n",
      "\n",
      "\n",
      "Gradient Boosting\n",
      "Model performance for Training set\n",
      "- Accuracy: 0.8711\n",
      "- F1 score: 0.8592\n",
      "- Precision: 0.8727\n",
      "- Recall: 0.8461\n",
      "- Roc Auc Score: 0.8694\n",
      "----------------------------------\n",
      "Model performance for Test set\n",
      "- Accuracy: 0.8700\n",
      "- F1 score: 0.8587\n",
      "- Precision: 0.8746\n",
      "- Recall: 0.8433\n",
      "- Roc Auc Score: 0.8684\n",
      "===================================\n",
      "\n",
      "\n",
      "Logistic Regression\n",
      "Model performance for Training set\n",
      "- Accuracy: 0.8599\n",
      "- F1 score: 0.8470\n",
      "- Precision: 0.8606\n",
      "- Recall: 0.8338\n",
      "- Roc Auc Score: 0.8582\n",
      "----------------------------------\n",
      "Model performance for Test set\n",
      "- Accuracy: 0.8603\n",
      "- F1 score: 0.8481\n",
      "- Precision: 0.8640\n",
      "- Recall: 0.8327\n",
      "- Roc Auc Score: 0.8586\n",
      "===================================\n",
      "\n",
      "\n",
      "K-Neighbors Classifier\n",
      "Model performance for Training set\n",
      "- Accuracy: 0.8902\n",
      "- F1 score: 0.8809\n",
      "- Precision: 0.8889\n",
      "- Recall: 0.8731\n",
      "- Roc Auc Score: 0.8891\n",
      "----------------------------------\n",
      "Model performance for Test set\n",
      "- Accuracy: 0.8545\n",
      "- F1 score: 0.8425\n",
      "- Precision: 0.8545\n",
      "- Recall: 0.8309\n",
      "- Roc Auc Score: 0.8531\n",
      "===================================\n",
      "\n",
      "\n",
      "XGBClassifier\n",
      "Model performance for Training set\n",
      "- Accuracy: 0.8883\n",
      "- F1 score: 0.8779\n",
      "- Precision: 0.8928\n",
      "- Recall: 0.8635\n",
      "- Roc Auc Score: 0.8867\n",
      "----------------------------------\n",
      "Model performance for Test set\n",
      "- Accuracy: 0.8724\n",
      "- F1 score: 0.8615\n",
      "- Precision: 0.8761\n",
      "- Recall: 0.8473\n",
      "- Roc Auc Score: 0.8709\n",
      "===================================\n",
      "\n",
      "\n",
      "CatBoosting Classifier\n",
      "Model performance for Training set\n",
      "- Accuracy: 0.8827\n",
      "- F1 score: 0.8719\n",
      "- Precision: 0.8860\n",
      "- Recall: 0.8582\n",
      "- Roc Auc Score: 0.8811\n",
      "----------------------------------\n",
      "Model performance for Test set\n",
      "- Accuracy: 0.8728\n",
      "- F1 score: 0.8617\n",
      "- Precision: 0.8775\n",
      "- Recall: 0.8464\n",
      "- Roc Auc Score: 0.8712\n",
      "===================================\n",
      "\n",
      "\n",
      "Support Vector Classifier\n",
      "Model performance for Training set\n",
      "- Accuracy: 0.8603\n",
      "- F1 score: 0.8460\n",
      "- Precision: 0.8676\n",
      "- Recall: 0.8255\n",
      "- Roc Auc Score: 0.8580\n",
      "----------------------------------\n",
      "Model performance for Test set\n",
      "- Accuracy: 0.8606\n",
      "- F1 score: 0.8471\n",
      "- Precision: 0.8711\n",
      "- Recall: 0.8243\n",
      "- Roc Auc Score: 0.8584\n",
      "===================================\n",
      "\n",
      "\n",
      "AdaBoost Classifier\n",
      "Model performance for Training set\n",
      "- Accuracy: 0.8650\n",
      "- F1 score: 0.8549\n",
      "- Precision: 0.8546\n",
      "- Recall: 0.8552\n",
      "- Roc Auc Score: 0.8644\n",
      "----------------------------------\n",
      "Model performance for Test set\n",
      "- Accuracy: 0.8636\n",
      "- F1 score: 0.8541\n",
      "- Precision: 0.8558\n",
      "- Recall: 0.8524\n",
      "- Roc Auc Score: 0.8629\n",
      "===================================\n",
      "\n",
      "\n"
     ]
    }
   ],
   "source": [
    "base_model_report =evaluate_models(X=X, y=y, models=models)"
   ]
  },
  {
   "cell_type": "code",
   "execution_count": 71,
   "metadata": {},
   "outputs": [
    {
     "data": {
      "text/html": [
       "<div>\n",
       "<style scoped>\n",
       "    .dataframe tbody tr th:only-of-type {\n",
       "        vertical-align: middle;\n",
       "    }\n",
       "\n",
       "    .dataframe tbody tr th {\n",
       "        vertical-align: top;\n",
       "    }\n",
       "\n",
       "    .dataframe thead th {\n",
       "        text-align: right;\n",
       "    }\n",
       "</style>\n",
       "<table border=\"1\" class=\"dataframe\">\n",
       "  <thead>\n",
       "    <tr style=\"text-align: right;\">\n",
       "      <th></th>\n",
       "      <th>Model Name</th>\n",
       "      <th>Accuracy</th>\n",
       "    </tr>\n",
       "  </thead>\n",
       "  <tbody>\n",
       "    <tr>\n",
       "      <th>6</th>\n",
       "      <td>CatBoosting Classifier</td>\n",
       "      <td>0.872763</td>\n",
       "    </tr>\n",
       "    <tr>\n",
       "      <th>5</th>\n",
       "      <td>XGBClassifier</td>\n",
       "      <td>0.872354</td>\n",
       "    </tr>\n",
       "    <tr>\n",
       "      <th>2</th>\n",
       "      <td>Gradient Boosting</td>\n",
       "      <td>0.869984</td>\n",
       "    </tr>\n",
       "    <tr>\n",
       "      <th>8</th>\n",
       "      <td>AdaBoost Classifier</td>\n",
       "      <td>0.863610</td>\n",
       "    </tr>\n",
       "    <tr>\n",
       "      <th>7</th>\n",
       "      <td>Support Vector Classifier</td>\n",
       "      <td>0.860587</td>\n",
       "    </tr>\n",
       "    <tr>\n",
       "      <th>3</th>\n",
       "      <td>Logistic Regression</td>\n",
       "      <td>0.860260</td>\n",
       "    </tr>\n",
       "    <tr>\n",
       "      <th>4</th>\n",
       "      <td>K-Neighbors Classifier</td>\n",
       "      <td>0.854540</td>\n",
       "    </tr>\n",
       "    <tr>\n",
       "      <th>0</th>\n",
       "      <td>Random Forest</td>\n",
       "      <td>0.852333</td>\n",
       "    </tr>\n",
       "    <tr>\n",
       "      <th>1</th>\n",
       "      <td>Decision Tree</td>\n",
       "      <td>0.816540</td>\n",
       "    </tr>\n",
       "  </tbody>\n",
       "</table>\n",
       "</div>"
      ],
      "text/plain": [
       "                  Model Name  Accuracy\n",
       "6     CatBoosting Classifier  0.872763\n",
       "5              XGBClassifier  0.872354\n",
       "2          Gradient Boosting  0.869984\n",
       "8        AdaBoost Classifier  0.863610\n",
       "7  Support Vector Classifier  0.860587\n",
       "3        Logistic Regression  0.860260\n",
       "4     K-Neighbors Classifier  0.854540\n",
       "0              Random Forest  0.852333\n",
       "1              Decision Tree  0.816540"
      ]
     },
     "execution_count": 71,
     "metadata": {},
     "output_type": "execute_result"
    }
   ],
   "source": [
    "base_model_report"
   ]
  },
  {
   "cell_type": "markdown",
   "metadata": {},
   "source": [
    "**Here we can use Random Forest for Hyper Parameter Tuning**"
   ]
  },
  {
   "cell_type": "markdown",
   "metadata": {},
   "source": [
    "**Define the parameter distribution for Random forest**"
   ]
  },
  {
   "cell_type": "code",
   "execution_count": 93,
   "metadata": {},
   "outputs": [],
   "source": [
    "#Initialize few parameter for Hyperparamter tuning\n",
    "# xgboost_params = {\n",
    " #   'max_depth':range(3,10,2),\n",
    " #   'min_child_weight':range(1,6,2)}\n",
    "\n",
    "catboost_params = {\n",
    "    'depth': [10,12,15,20],\n",
    "    \n",
    "    'iterations': range(100, 500, 200),\n",
    "    'l2_leaf_reg': [1, 3, 5, 7, 9]    \n",
    "}   \n",
    "gradientboost_params = {\n",
    "  \n",
    "    'n_estimators': [10,50,100,200],\n",
    "    'max_depth': [3, 5, 7, 9],\n",
    "    'min_samples_split': range(2, 10),\n",
    "    \n",
    "}\n",
    "\n",
    "\n",
    "rf_params = {\n",
    "    \"max_depth\": [10, 12, None, 15, 20],\n",
    "    \"max_features\": ['sqrt', 'log2', None],\n",
    "    \"n_estimators\": [10, 50, 100, 200]\n",
    "}\n",
    "\n"
   ]
  },
  {
   "cell_type": "code",
   "execution_count": 94,
   "metadata": {},
   "outputs": [],
   "source": [
    "# Models list for Hyperparameter tuning\n",
    "randomcv_models = [\n",
    "    \n",
    "    \n",
    "    (\"CatBoost\", CatBoostClassifier(), catboost_params),\n",
    "    (\"GradientBoost\", GradientBoostingClassifier(), gradientboost_params),\n",
    "    (\"RF\", RandomForestClassifier(), rf_params)]\n",
    "    "
   ]
  },
  {
   "cell_type": "markdown",
   "metadata": {},
   "source": [
    "**Create a function for model training and report which can be used in hyperparameter tuning loop**\n"
   ]
  },
  {
   "cell_type": "code",
   "execution_count": 95,
   "metadata": {},
   "outputs": [
    {
     "name": "stdout",
     "output_type": "stream",
     "text": [
      "Fitting 3 folds for each of 40 candidates, totalling 120 fits\n",
      "0:\tlearn: 0.6760193\ttotal: 39.7ms\tremaining: 3.93s\n",
      "1:\tlearn: 0.6595665\ttotal: 52.6ms\tremaining: 2.58s\n",
      "2:\tlearn: 0.6439707\ttotal: 105ms\tremaining: 3.4s\n",
      "3:\tlearn: 0.6290539\ttotal: 137ms\tremaining: 3.28s\n",
      "4:\tlearn: 0.6149528\ttotal: 158ms\tremaining: 3.01s\n",
      "5:\tlearn: 0.6015487\ttotal: 193ms\tremaining: 3.02s\n",
      "6:\tlearn: 0.5891595\ttotal: 229ms\tremaining: 3.04s\n",
      "7:\tlearn: 0.5771586\ttotal: 281ms\tremaining: 3.23s\n",
      "8:\tlearn: 0.5657386\ttotal: 307ms\tremaining: 3.11s\n",
      "9:\tlearn: 0.5550297\ttotal: 343ms\tremaining: 3.08s\n",
      "10:\tlearn: 0.5450925\ttotal: 378ms\tremaining: 3.05s\n",
      "11:\tlearn: 0.5356339\ttotal: 430ms\tremaining: 3.15s\n",
      "12:\tlearn: 0.5264771\ttotal: 463ms\tremaining: 3.1s\n",
      "13:\tlearn: 0.5176712\ttotal: 500ms\tremaining: 3.07s\n",
      "14:\tlearn: 0.5093034\ttotal: 547ms\tremaining: 3.1s\n",
      "15:\tlearn: 0.5013490\ttotal: 602ms\tremaining: 3.16s\n",
      "16:\tlearn: 0.4938014\ttotal: 644ms\tremaining: 3.15s\n",
      "17:\tlearn: 0.4863489\ttotal: 677ms\tremaining: 3.08s\n",
      "18:\tlearn: 0.4792001\ttotal: 711ms\tremaining: 3.03s\n",
      "19:\tlearn: 0.4724453\ttotal: 772ms\tremaining: 3.09s\n",
      "20:\tlearn: 0.4659020\ttotal: 806ms\tremaining: 3.03s\n",
      "21:\tlearn: 0.4596925\ttotal: 829ms\tremaining: 2.94s\n",
      "22:\tlearn: 0.4537717\ttotal: 856ms\tremaining: 2.86s\n",
      "23:\tlearn: 0.4481892\ttotal: 896ms\tremaining: 2.84s\n",
      "24:\tlearn: 0.4427007\ttotal: 964ms\tremaining: 2.89s\n",
      "25:\tlearn: 0.4375856\ttotal: 1s\tremaining: 2.85s\n",
      "26:\tlearn: 0.4328658\ttotal: 1.04s\tremaining: 2.82s\n",
      "27:\tlearn: 0.4280912\ttotal: 1.1s\tremaining: 2.83s\n",
      "28:\tlearn: 0.4236539\ttotal: 1.13s\tremaining: 2.78s\n",
      "29:\tlearn: 0.4193298\ttotal: 1.15s\tremaining: 2.69s\n",
      "30:\tlearn: 0.4151380\ttotal: 1.2s\tremaining: 2.67s\n",
      "31:\tlearn: 0.4111550\ttotal: 1.27s\tremaining: 2.69s\n",
      "32:\tlearn: 0.4073237\ttotal: 1.31s\tremaining: 2.66s\n",
      "33:\tlearn: 0.4036360\ttotal: 1.35s\tremaining: 2.62s\n",
      "34:\tlearn: 0.4000681\ttotal: 1.4s\tremaining: 2.6s\n",
      "35:\tlearn: 0.3966447\ttotal: 1.46s\tremaining: 2.59s\n",
      "36:\tlearn: 0.3934319\ttotal: 1.5s\tremaining: 2.55s\n",
      "37:\tlearn: 0.3903652\ttotal: 1.54s\tremaining: 2.51s\n",
      "38:\tlearn: 0.3873671\ttotal: 1.6s\tremaining: 2.51s\n",
      "39:\tlearn: 0.3845116\ttotal: 1.64s\tremaining: 2.45s\n",
      "40:\tlearn: 0.3818020\ttotal: 1.68s\tremaining: 2.41s\n",
      "41:\tlearn: 0.3790959\ttotal: 1.72s\tremaining: 2.38s\n",
      "42:\tlearn: 0.3765864\ttotal: 1.75s\tremaining: 2.32s\n",
      "43:\tlearn: 0.3742270\ttotal: 1.8s\tremaining: 2.3s\n",
      "44:\tlearn: 0.3718914\ttotal: 1.84s\tremaining: 2.25s\n",
      "45:\tlearn: 0.3695918\ttotal: 1.88s\tremaining: 2.2s\n",
      "46:\tlearn: 0.3674234\ttotal: 1.91s\tremaining: 2.16s\n",
      "47:\tlearn: 0.3654023\ttotal: 1.93s\tremaining: 2.1s\n",
      "48:\tlearn: 0.3633751\ttotal: 1.98s\tremaining: 2.06s\n",
      "49:\tlearn: 0.3614073\ttotal: 2.02s\tremaining: 2.02s\n",
      "50:\tlearn: 0.3595417\ttotal: 2.05s\tremaining: 1.97s\n",
      "51:\tlearn: 0.3577048\ttotal: 2.08s\tremaining: 1.92s\n",
      "52:\tlearn: 0.3559795\ttotal: 2.14s\tremaining: 1.89s\n",
      "53:\tlearn: 0.3544240\ttotal: 2.15s\tremaining: 1.83s\n",
      "54:\tlearn: 0.3528320\ttotal: 2.19s\tremaining: 1.79s\n",
      "55:\tlearn: 0.3513106\ttotal: 2.22s\tremaining: 1.75s\n",
      "56:\tlearn: 0.3497889\ttotal: 2.25s\tremaining: 1.7s\n",
      "57:\tlearn: 0.3483609\ttotal: 2.3s\tremaining: 1.66s\n",
      "58:\tlearn: 0.3469649\ttotal: 2.34s\tremaining: 1.62s\n",
      "59:\tlearn: 0.3456224\ttotal: 2.38s\tremaining: 1.59s\n",
      "60:\tlearn: 0.3442832\ttotal: 2.41s\tremaining: 1.54s\n",
      "61:\tlearn: 0.3430519\ttotal: 2.46s\tremaining: 1.51s\n",
      "62:\tlearn: 0.3418305\ttotal: 2.5s\tremaining: 1.47s\n",
      "63:\tlearn: 0.3406662\ttotal: 2.53s\tremaining: 1.42s\n",
      "64:\tlearn: 0.3395477\ttotal: 2.56s\tremaining: 1.38s\n",
      "65:\tlearn: 0.3384538\ttotal: 2.62s\tremaining: 1.35s\n",
      "66:\tlearn: 0.3374220\ttotal: 2.67s\tremaining: 1.31s\n",
      "67:\tlearn: 0.3364537\ttotal: 2.71s\tremaining: 1.27s\n",
      "68:\tlearn: 0.3354741\ttotal: 2.74s\tremaining: 1.23s\n",
      "69:\tlearn: 0.3345355\ttotal: 2.79s\tremaining: 1.19s\n",
      "70:\tlearn: 0.3336829\ttotal: 2.82s\tremaining: 1.15s\n",
      "71:\tlearn: 0.3328419\ttotal: 2.86s\tremaining: 1.11s\n",
      "72:\tlearn: 0.3319559\ttotal: 2.89s\tremaining: 1.07s\n",
      "73:\tlearn: 0.3311268\ttotal: 2.92s\tremaining: 1.03s\n",
      "74:\tlearn: 0.3303805\ttotal: 2.98s\tremaining: 992ms\n",
      "75:\tlearn: 0.3296954\ttotal: 3.01s\tremaining: 950ms\n",
      "76:\tlearn: 0.3289667\ttotal: 3.04s\tremaining: 909ms\n",
      "77:\tlearn: 0.3282766\ttotal: 3.07s\tremaining: 865ms\n",
      "78:\tlearn: 0.3276245\ttotal: 3.1s\tremaining: 824ms\n",
      "79:\tlearn: 0.3269548\ttotal: 3.15s\tremaining: 788ms\n",
      "80:\tlearn: 0.3263047\ttotal: 3.19s\tremaining: 747ms\n",
      "81:\tlearn: 0.3257217\ttotal: 3.22s\tremaining: 706ms\n",
      "82:\tlearn: 0.3251589\ttotal: 3.25s\tremaining: 665ms\n",
      "83:\tlearn: 0.3245862\ttotal: 3.3s\tremaining: 628ms\n",
      "84:\tlearn: 0.3240469\ttotal: 3.34s\tremaining: 590ms\n",
      "85:\tlearn: 0.3234895\ttotal: 3.37s\tremaining: 549ms\n",
      "86:\tlearn: 0.3229924\ttotal: 3.41s\tremaining: 510ms\n",
      "87:\tlearn: 0.3224792\ttotal: 3.5s\tremaining: 477ms\n",
      "88:\tlearn: 0.3220048\ttotal: 3.55s\tremaining: 439ms\n",
      "89:\tlearn: 0.3215804\ttotal: 3.63s\tremaining: 403ms\n",
      "90:\tlearn: 0.3211281\ttotal: 3.68s\tremaining: 364ms\n",
      "91:\tlearn: 0.3207525\ttotal: 3.7s\tremaining: 322ms\n",
      "92:\tlearn: 0.3203301\ttotal: 3.74s\tremaining: 281ms\n",
      "93:\tlearn: 0.3198951\ttotal: 3.77s\tremaining: 241ms\n",
      "94:\tlearn: 0.3195087\ttotal: 3.84s\tremaining: 202ms\n",
      "95:\tlearn: 0.3191040\ttotal: 3.87s\tremaining: 161ms\n",
      "96:\tlearn: 0.3187212\ttotal: 3.91s\tremaining: 121ms\n",
      "97:\tlearn: 0.3183727\ttotal: 3.95s\tremaining: 80.6ms\n",
      "98:\tlearn: 0.3180604\ttotal: 4.01s\tremaining: 40.5ms\n",
      "99:\tlearn: 0.3176768\ttotal: 4.06s\tremaining: 0us\n",
      "Fitting 3 folds for each of 100 candidates, totalling 300 fits\n",
      "Fitting 3 folds for each of 60 candidates, totalling 180 fits\n"
     ]
    }
   ],
   "source": [
    "from sklearn.model_selection import RandomizedSearchCV\n",
    "\n",
    "model_param = {}\n",
    "for name, model, params in randomcv_models:\n",
    "    try:\n",
    "        random = RandomizedSearchCV(estimator=model,\n",
    "                                   param_distributions=params,\n",
    "                                   n_iter=100,\n",
    "                                   cv=3,\n",
    "                                   verbose=2, \n",
    "                                   n_jobs=-1)\n",
    "        random.fit(X, y)\n",
    "        model_param[name] = random.best_params_\n",
    "    except Exception as e:\n",
    "        print(f'exception for {name} : {e}')\n",
    "\n"
   ]
  },
  {
   "cell_type": "code",
   "execution_count": 96,
   "metadata": {},
   "outputs": [
    {
     "name": "stdout",
     "output_type": "stream",
     "text": [
      "---------------- Best Params for CatBoost -------------------\n",
      "{'l2_leaf_reg': 9, 'iterations': 100, 'depth': 10}\n",
      "---------------- Best Params for GradientBoost -------------------\n",
      "{'n_estimators': 50, 'min_samples_split': 7, 'max_depth': 3}\n",
      "---------------- Best Params for RF -------------------\n",
      "{'n_estimators': 100, 'max_features': 'sqrt', 'max_depth': 10}\n"
     ]
    }
   ],
   "source": [
    "for model_name in model_param:\n",
    "    print(f\"---------------- Best Params for {model_name} -------------------\")\n",
    "    print(model_param[model_name])"
   ]
  },
  {
   "cell_type": "code",
   "execution_count": 97,
   "metadata": {},
   "outputs": [
    {
     "data": {
      "text/plain": [
       "{'CatBoost': {'l2_leaf_reg': 9, 'iterations': 100, 'depth': 10},\n",
       " 'GradientBoost': {'n_estimators': 50, 'min_samples_split': 7, 'max_depth': 3},\n",
       " 'RF': {'n_estimators': 100, 'max_features': 'sqrt', 'max_depth': 10}}"
      ]
     },
     "execution_count": 97,
     "metadata": {},
     "output_type": "execute_result"
    }
   ],
   "source": [
    "model_param"
   ]
  },
  {
   "cell_type": "markdown",
   "metadata": {},
   "source": [
    "## Retraining the Model with best Parameters"
   ]
  },
  {
   "cell_type": "code",
   "execution_count": 99,
   "metadata": {},
   "outputs": [
    {
     "name": "stdout",
     "output_type": "stream",
     "text": [
      "Random Forest Classifier\n",
      "Model performance for Training set\n",
      "- Accuracy: 0.8822\n",
      "- F1 score: 0.8715\n",
      "- Precision: 0.8843\n",
      "- Recall: 0.8589\n",
      "- Roc Auc Score: 0.8806\n",
      "----------------------------------\n",
      "Model performance for Test set\n",
      "- Accuracy: 0.8657\n",
      "- F1 score: 0.8541\n",
      "- Precision: 0.8696\n",
      "- Recall: 0.8391\n",
      "- Roc Auc Score: 0.8641\n",
      "===================================\n",
      "\n",
      "\n",
      "GradientBoostingClassifier\n",
      "Model performance for Training set\n",
      "- Accuracy: 0.8687\n",
      "- F1 score: 0.8569\n",
      "- Precision: 0.8682\n",
      "- Recall: 0.8459\n",
      "- Roc Auc Score: 0.8672\n",
      "----------------------------------\n",
      "Model performance for Test set\n",
      "- Accuracy: 0.8666\n",
      "- F1 score: 0.8553\n",
      "- Precision: 0.8692\n",
      "- Recall: 0.8419\n",
      "- Roc Auc Score: 0.8652\n",
      "===================================\n",
      "\n",
      "\n",
      "0:\tlearn: 0.6761498\ttotal: 35.4ms\tremaining: 3.5s\n",
      "1:\tlearn: 0.6596828\ttotal: 48.9ms\tremaining: 2.4s\n",
      "2:\tlearn: 0.6440045\ttotal: 94.4ms\tremaining: 3.05s\n",
      "3:\tlearn: 0.6292575\ttotal: 118ms\tremaining: 2.83s\n",
      "4:\tlearn: 0.6153160\ttotal: 138ms\tremaining: 2.63s\n",
      "5:\tlearn: 0.6024856\ttotal: 163ms\tremaining: 2.56s\n",
      "6:\tlearn: 0.5899606\ttotal: 195ms\tremaining: 2.59s\n",
      "7:\tlearn: 0.5782467\ttotal: 218ms\tremaining: 2.51s\n",
      "8:\tlearn: 0.5671713\ttotal: 238ms\tremaining: 2.4s\n",
      "9:\tlearn: 0.5564338\ttotal: 273ms\tremaining: 2.46s\n",
      "10:\tlearn: 0.5462612\ttotal: 294ms\tremaining: 2.38s\n",
      "11:\tlearn: 0.5367171\ttotal: 314ms\tremaining: 2.3s\n",
      "12:\tlearn: 0.5274919\ttotal: 326ms\tremaining: 2.18s\n",
      "13:\tlearn: 0.5187718\ttotal: 346ms\tremaining: 2.13s\n",
      "14:\tlearn: 0.5102751\ttotal: 370ms\tremaining: 2.1s\n",
      "15:\tlearn: 0.5024736\ttotal: 381ms\tremaining: 2s\n",
      "16:\tlearn: 0.4947090\ttotal: 419ms\tremaining: 2.05s\n",
      "17:\tlearn: 0.4872173\ttotal: 440ms\tremaining: 2s\n",
      "18:\tlearn: 0.4800553\ttotal: 461ms\tremaining: 1.96s\n",
      "19:\tlearn: 0.4733701\ttotal: 482ms\tremaining: 1.93s\n",
      "20:\tlearn: 0.4668419\ttotal: 502ms\tremaining: 1.89s\n",
      "21:\tlearn: 0.4606131\ttotal: 517ms\tremaining: 1.83s\n",
      "22:\tlearn: 0.4547221\ttotal: 530ms\tremaining: 1.77s\n",
      "23:\tlearn: 0.4490208\ttotal: 540ms\tremaining: 1.71s\n",
      "24:\tlearn: 0.4436712\ttotal: 573ms\tremaining: 1.72s\n",
      "25:\tlearn: 0.4385361\ttotal: 595ms\tremaining: 1.69s\n",
      "26:\tlearn: 0.4338011\ttotal: 621ms\tremaining: 1.68s\n",
      "27:\tlearn: 0.4290289\ttotal: 642ms\tremaining: 1.65s\n",
      "28:\tlearn: 0.4245343\ttotal: 663ms\tremaining: 1.62s\n",
      "29:\tlearn: 0.4201873\ttotal: 670ms\tremaining: 1.56s\n",
      "30:\tlearn: 0.4159807\ttotal: 696ms\tremaining: 1.55s\n",
      "31:\tlearn: 0.4119818\ttotal: 733ms\tremaining: 1.56s\n",
      "32:\tlearn: 0.4081680\ttotal: 753ms\tremaining: 1.53s\n",
      "33:\tlearn: 0.4044716\ttotal: 776ms\tremaining: 1.5s\n",
      "34:\tlearn: 0.4009551\ttotal: 800ms\tremaining: 1.49s\n",
      "35:\tlearn: 0.3975248\ttotal: 822ms\tremaining: 1.46s\n",
      "36:\tlearn: 0.3942843\ttotal: 837ms\tremaining: 1.42s\n",
      "37:\tlearn: 0.3912046\ttotal: 870ms\tremaining: 1.42s\n",
      "38:\tlearn: 0.3882056\ttotal: 893ms\tremaining: 1.4s\n",
      "39:\tlearn: 0.3853479\ttotal: 913ms\tremaining: 1.37s\n",
      "40:\tlearn: 0.3826931\ttotal: 934ms\tremaining: 1.34s\n",
      "41:\tlearn: 0.3800299\ttotal: 944ms\tremaining: 1.3s\n",
      "42:\tlearn: 0.3774659\ttotal: 963ms\tremaining: 1.28s\n",
      "43:\tlearn: 0.3750110\ttotal: 972ms\tremaining: 1.24s\n",
      "44:\tlearn: 0.3726275\ttotal: 992ms\tremaining: 1.21s\n",
      "45:\tlearn: 0.3703211\ttotal: 1.04s\tremaining: 1.22s\n",
      "46:\tlearn: 0.3681664\ttotal: 1.06s\tremaining: 1.19s\n",
      "47:\tlearn: 0.3661683\ttotal: 1.08s\tremaining: 1.17s\n",
      "48:\tlearn: 0.3641523\ttotal: 1.1s\tremaining: 1.15s\n",
      "49:\tlearn: 0.3621863\ttotal: 1.13s\tremaining: 1.13s\n",
      "50:\tlearn: 0.3602967\ttotal: 1.15s\tremaining: 1.1s\n",
      "51:\tlearn: 0.3585084\ttotal: 1.17s\tremaining: 1.08s\n",
      "52:\tlearn: 0.3568284\ttotal: 1.21s\tremaining: 1.07s\n",
      "53:\tlearn: 0.3552059\ttotal: 1.24s\tremaining: 1.05s\n",
      "54:\tlearn: 0.3536465\ttotal: 1.26s\tremaining: 1.03s\n",
      "55:\tlearn: 0.3521311\ttotal: 1.29s\tremaining: 1.01s\n",
      "56:\tlearn: 0.3506446\ttotal: 1.31s\tremaining: 986ms\n",
      "57:\tlearn: 0.3491331\ttotal: 1.33s\tremaining: 961ms\n",
      "58:\tlearn: 0.3478290\ttotal: 1.36s\tremaining: 947ms\n",
      "59:\tlearn: 0.3464747\ttotal: 1.38s\tremaining: 922ms\n",
      "60:\tlearn: 0.3451910\ttotal: 1.39s\tremaining: 890ms\n",
      "61:\tlearn: 0.3439517\ttotal: 1.41s\tremaining: 867ms\n",
      "62:\tlearn: 0.3427389\ttotal: 1.43s\tremaining: 842ms\n",
      "63:\tlearn: 0.3415946\ttotal: 1.45s\tremaining: 818ms\n",
      "64:\tlearn: 0.3404725\ttotal: 1.47s\tremaining: 794ms\n",
      "65:\tlearn: 0.3394465\ttotal: 1.51s\tremaining: 781ms\n",
      "66:\tlearn: 0.3383960\ttotal: 1.54s\tremaining: 757ms\n",
      "67:\tlearn: 0.3373839\ttotal: 1.56s\tremaining: 734ms\n",
      "68:\tlearn: 0.3364036\ttotal: 1.58s\tremaining: 710ms\n",
      "69:\tlearn: 0.3354475\ttotal: 1.6s\tremaining: 685ms\n",
      "70:\tlearn: 0.3346325\ttotal: 1.61s\tremaining: 659ms\n",
      "71:\tlearn: 0.3337928\ttotal: 1.63s\tremaining: 634ms\n",
      "72:\tlearn: 0.3329092\ttotal: 1.65s\tremaining: 611ms\n",
      "73:\tlearn: 0.3320656\ttotal: 1.69s\tremaining: 595ms\n",
      "74:\tlearn: 0.3312928\ttotal: 1.72s\tremaining: 574ms\n",
      "75:\tlearn: 0.3305914\ttotal: 1.74s\tremaining: 551ms\n",
      "76:\tlearn: 0.3299439\ttotal: 1.75s\tremaining: 524ms\n",
      "77:\tlearn: 0.3292581\ttotal: 1.77s\tremaining: 500ms\n",
      "78:\tlearn: 0.3285774\ttotal: 1.79s\tremaining: 477ms\n",
      "79:\tlearn: 0.3278788\ttotal: 1.83s\tremaining: 458ms\n",
      "80:\tlearn: 0.3272409\ttotal: 1.85s\tremaining: 435ms\n",
      "81:\tlearn: 0.3266029\ttotal: 1.88s\tremaining: 413ms\n",
      "82:\tlearn: 0.3260170\ttotal: 1.91s\tremaining: 392ms\n",
      "83:\tlearn: 0.3254923\ttotal: 1.94s\tremaining: 370ms\n",
      "84:\tlearn: 0.3249333\ttotal: 1.98s\tremaining: 350ms\n",
      "85:\tlearn: 0.3243913\ttotal: 2.01s\tremaining: 328ms\n",
      "86:\tlearn: 0.3238531\ttotal: 2.04s\tremaining: 305ms\n",
      "87:\tlearn: 0.3234153\ttotal: 2.04s\tremaining: 279ms\n",
      "88:\tlearn: 0.3229051\ttotal: 2.07s\tremaining: 256ms\n",
      "89:\tlearn: 0.3224099\ttotal: 2.09s\tremaining: 233ms\n",
      "90:\tlearn: 0.3219813\ttotal: 2.14s\tremaining: 212ms\n",
      "91:\tlearn: 0.3215391\ttotal: 2.17s\tremaining: 189ms\n",
      "92:\tlearn: 0.3211765\ttotal: 2.2s\tremaining: 165ms\n",
      "93:\tlearn: 0.3207913\ttotal: 2.23s\tremaining: 143ms\n",
      "94:\tlearn: 0.3203360\ttotal: 2.26s\tremaining: 119ms\n",
      "95:\tlearn: 0.3199473\ttotal: 2.28s\tremaining: 94.9ms\n",
      "96:\tlearn: 0.3195659\ttotal: 2.32s\tremaining: 71.7ms\n",
      "97:\tlearn: 0.3192034\ttotal: 2.34s\tremaining: 47.8ms\n",
      "98:\tlearn: 0.3188360\ttotal: 2.37s\tremaining: 24ms\n",
      "99:\tlearn: 0.3184984\ttotal: 2.4s\tremaining: 0us\n",
      "CatBoostClassifier\n",
      "Model performance for Training set\n",
      "- Accuracy: 0.8688\n",
      "- F1 score: 0.8567\n",
      "- Precision: 0.8702\n",
      "- Recall: 0.8436\n",
      "- Roc Auc Score: 0.8671\n",
      "----------------------------------\n",
      "Model performance for Test set\n",
      "- Accuracy: 0.8676\n",
      "- F1 score: 0.8562\n",
      "- Precision: 0.8715\n",
      "- Recall: 0.8414\n",
      "- Roc Auc Score: 0.8661\n",
      "===================================\n",
      "\n",
      "\n"
     ]
    }
   ],
   "source": [
    "from sklearn.metrics import roc_auc_score,roc_curve\n",
    "best_models = {\n",
    "    \"Random Forest Classifier\": RandomForestClassifier(**model_param['RF']),\n",
    "    \"GradientBoostingClassifier\": GradientBoostingClassifier(**model_param['GradientBoost']),\n",
    "    \"CatBoostClassifier\": CatBoostClassifier(**model_param['CatBoost']),\n",
    "}\n",
    "tuned_report =evaluate_models(X=X, y=y, models=best_models)"
   ]
  },
  {
   "cell_type": "code",
   "execution_count": 100,
   "metadata": {},
   "outputs": [
    {
     "data": {
      "text/html": [
       "<div>\n",
       "<style scoped>\n",
       "    .dataframe tbody tr th:only-of-type {\n",
       "        vertical-align: middle;\n",
       "    }\n",
       "\n",
       "    .dataframe tbody tr th {\n",
       "        vertical-align: top;\n",
       "    }\n",
       "\n",
       "    .dataframe thead th {\n",
       "        text-align: right;\n",
       "    }\n",
       "</style>\n",
       "<table border=\"1\" class=\"dataframe\">\n",
       "  <thead>\n",
       "    <tr style=\"text-align: right;\">\n",
       "      <th></th>\n",
       "      <th>Model Name</th>\n",
       "      <th>Accuracy</th>\n",
       "    </tr>\n",
       "  </thead>\n",
       "  <tbody>\n",
       "    <tr>\n",
       "      <th>2</th>\n",
       "      <td>CatBoostClassifier</td>\n",
       "      <td>0.867615</td>\n",
       "    </tr>\n",
       "    <tr>\n",
       "      <th>1</th>\n",
       "      <td>GradientBoostingClassifier</td>\n",
       "      <td>0.866634</td>\n",
       "    </tr>\n",
       "    <tr>\n",
       "      <th>0</th>\n",
       "      <td>Random Forest Classifier</td>\n",
       "      <td>0.865735</td>\n",
       "    </tr>\n",
       "  </tbody>\n",
       "</table>\n",
       "</div>"
      ],
      "text/plain": [
       "                   Model Name  Accuracy\n",
       "2          CatBoostClassifier  0.867615\n",
       "1  GradientBoostingClassifier  0.866634\n",
       "0    Random Forest Classifier  0.865735"
      ]
     },
     "execution_count": 100,
     "metadata": {},
     "output_type": "execute_result"
    }
   ],
   "source": [
    "tuned_report"
   ]
  },
  {
   "cell_type": "code",
   "execution_count": 101,
   "metadata": {},
   "outputs": [
    {
     "name": "stdout",
     "output_type": "stream",
     "text": [
      "0:\tlearn: 0.6761498\ttotal: 26.1ms\tremaining: 2.58s\n",
      "1:\tlearn: 0.6596828\ttotal: 35.9ms\tremaining: 1.76s\n",
      "2:\tlearn: 0.6440045\ttotal: 62.1ms\tremaining: 2.01s\n",
      "3:\tlearn: 0.6292575\ttotal: 117ms\tremaining: 2.82s\n",
      "4:\tlearn: 0.6153160\ttotal: 138ms\tremaining: 2.61s\n",
      "5:\tlearn: 0.6024856\ttotal: 162ms\tremaining: 2.54s\n",
      "6:\tlearn: 0.5899606\ttotal: 184ms\tremaining: 2.44s\n",
      "7:\tlearn: 0.5782467\ttotal: 200ms\tremaining: 2.29s\n",
      "8:\tlearn: 0.5671713\ttotal: 224ms\tremaining: 2.27s\n",
      "9:\tlearn: 0.5564338\ttotal: 251ms\tremaining: 2.25s\n",
      "10:\tlearn: 0.5462612\ttotal: 298ms\tremaining: 2.41s\n",
      "11:\tlearn: 0.5367171\ttotal: 325ms\tremaining: 2.38s\n",
      "12:\tlearn: 0.5274919\ttotal: 339ms\tremaining: 2.27s\n",
      "13:\tlearn: 0.5187718\ttotal: 360ms\tremaining: 2.21s\n",
      "14:\tlearn: 0.5102751\ttotal: 379ms\tremaining: 2.15s\n",
      "15:\tlearn: 0.5024736\ttotal: 391ms\tremaining: 2.05s\n",
      "16:\tlearn: 0.4947090\ttotal: 431ms\tremaining: 2.11s\n",
      "17:\tlearn: 0.4872173\ttotal: 454ms\tremaining: 2.07s\n",
      "18:\tlearn: 0.4800553\ttotal: 475ms\tremaining: 2.02s\n",
      "19:\tlearn: 0.4733701\ttotal: 507ms\tremaining: 2.03s\n",
      "20:\tlearn: 0.4668419\ttotal: 531ms\tremaining: 2s\n",
      "21:\tlearn: 0.4606131\ttotal: 544ms\tremaining: 1.93s\n",
      "22:\tlearn: 0.4547221\ttotal: 559ms\tremaining: 1.87s\n",
      "23:\tlearn: 0.4490208\ttotal: 598ms\tremaining: 1.89s\n",
      "24:\tlearn: 0.4436712\ttotal: 622ms\tremaining: 1.87s\n",
      "25:\tlearn: 0.4385361\ttotal: 642ms\tremaining: 1.83s\n",
      "26:\tlearn: 0.4338011\ttotal: 662ms\tremaining: 1.79s\n",
      "27:\tlearn: 0.4290289\ttotal: 686ms\tremaining: 1.76s\n",
      "28:\tlearn: 0.4245343\ttotal: 715ms\tremaining: 1.75s\n",
      "29:\tlearn: 0.4201873\ttotal: 726ms\tremaining: 1.69s\n",
      "30:\tlearn: 0.4159807\ttotal: 772ms\tremaining: 1.72s\n",
      "31:\tlearn: 0.4119818\ttotal: 794ms\tremaining: 1.69s\n",
      "32:\tlearn: 0.4081680\ttotal: 816ms\tremaining: 1.66s\n",
      "33:\tlearn: 0.4044716\ttotal: 836ms\tremaining: 1.62s\n",
      "34:\tlearn: 0.4009551\ttotal: 857ms\tremaining: 1.59s\n",
      "35:\tlearn: 0.3975248\ttotal: 877ms\tremaining: 1.56s\n",
      "36:\tlearn: 0.3942843\ttotal: 905ms\tremaining: 1.54s\n",
      "37:\tlearn: 0.3912046\ttotal: 962ms\tremaining: 1.57s\n",
      "38:\tlearn: 0.3882056\ttotal: 999ms\tremaining: 1.56s\n",
      "39:\tlearn: 0.3853479\ttotal: 1.03s\tremaining: 1.55s\n",
      "40:\tlearn: 0.3826931\ttotal: 1.09s\tremaining: 1.57s\n",
      "41:\tlearn: 0.3800299\ttotal: 1.12s\tremaining: 1.54s\n",
      "42:\tlearn: 0.3774659\ttotal: 1.16s\tremaining: 1.53s\n",
      "43:\tlearn: 0.3750110\ttotal: 1.17s\tremaining: 1.49s\n",
      "44:\tlearn: 0.3726275\ttotal: 1.2s\tremaining: 1.47s\n",
      "45:\tlearn: 0.3703211\ttotal: 1.26s\tremaining: 1.48s\n",
      "46:\tlearn: 0.3681664\ttotal: 1.3s\tremaining: 1.46s\n",
      "47:\tlearn: 0.3661683\ttotal: 1.33s\tremaining: 1.44s\n",
      "48:\tlearn: 0.3641523\ttotal: 1.35s\tremaining: 1.41s\n",
      "49:\tlearn: 0.3621863\ttotal: 1.4s\tremaining: 1.4s\n",
      "50:\tlearn: 0.3602967\ttotal: 1.43s\tremaining: 1.38s\n",
      "51:\tlearn: 0.3585084\ttotal: 1.46s\tremaining: 1.35s\n",
      "52:\tlearn: 0.3568284\ttotal: 1.49s\tremaining: 1.32s\n",
      "53:\tlearn: 0.3552059\ttotal: 1.51s\tremaining: 1.29s\n",
      "54:\tlearn: 0.3536465\ttotal: 1.56s\tremaining: 1.28s\n",
      "55:\tlearn: 0.3521311\ttotal: 1.6s\tremaining: 1.25s\n",
      "56:\tlearn: 0.3506446\ttotal: 1.62s\tremaining: 1.22s\n",
      "57:\tlearn: 0.3491331\ttotal: 1.66s\tremaining: 1.2s\n",
      "58:\tlearn: 0.3478290\ttotal: 1.69s\tremaining: 1.17s\n",
      "59:\tlearn: 0.3464747\ttotal: 1.74s\tremaining: 1.16s\n",
      "60:\tlearn: 0.3451910\ttotal: 1.76s\tremaining: 1.12s\n",
      "61:\tlearn: 0.3439517\ttotal: 1.78s\tremaining: 1.09s\n",
      "62:\tlearn: 0.3427389\ttotal: 1.83s\tremaining: 1.07s\n",
      "63:\tlearn: 0.3415946\ttotal: 1.89s\tremaining: 1.06s\n",
      "64:\tlearn: 0.3404725\ttotal: 1.92s\tremaining: 1.03s\n",
      "65:\tlearn: 0.3394465\ttotal: 1.96s\tremaining: 1.01s\n",
      "66:\tlearn: 0.3383960\ttotal: 1.99s\tremaining: 980ms\n",
      "67:\tlearn: 0.3373839\ttotal: 2.03s\tremaining: 953ms\n",
      "68:\tlearn: 0.3364036\ttotal: 2.08s\tremaining: 936ms\n",
      "69:\tlearn: 0.3354475\ttotal: 2.11s\tremaining: 903ms\n",
      "70:\tlearn: 0.3346325\ttotal: 2.12s\tremaining: 867ms\n",
      "71:\tlearn: 0.3337928\ttotal: 2.14s\tremaining: 834ms\n",
      "72:\tlearn: 0.3329092\ttotal: 2.17s\tremaining: 801ms\n",
      "73:\tlearn: 0.3320656\ttotal: 2.19s\tremaining: 769ms\n",
      "74:\tlearn: 0.3312928\ttotal: 2.21s\tremaining: 737ms\n",
      "75:\tlearn: 0.3305914\ttotal: 2.25s\tremaining: 712ms\n",
      "76:\tlearn: 0.3299439\ttotal: 2.27s\tremaining: 677ms\n",
      "77:\tlearn: 0.3292581\ttotal: 2.29s\tremaining: 647ms\n",
      "78:\tlearn: 0.3285774\ttotal: 2.32s\tremaining: 616ms\n",
      "79:\tlearn: 0.3278788\ttotal: 2.34s\tremaining: 585ms\n",
      "80:\tlearn: 0.3272409\ttotal: 2.36s\tremaining: 555ms\n",
      "81:\tlearn: 0.3266029\ttotal: 2.41s\tremaining: 528ms\n",
      "82:\tlearn: 0.3260170\ttotal: 2.43s\tremaining: 497ms\n",
      "83:\tlearn: 0.3254923\ttotal: 2.45s\tremaining: 467ms\n",
      "84:\tlearn: 0.3249333\ttotal: 2.48s\tremaining: 438ms\n",
      "85:\tlearn: 0.3243913\ttotal: 2.51s\tremaining: 409ms\n",
      "86:\tlearn: 0.3238531\ttotal: 2.54s\tremaining: 379ms\n",
      "87:\tlearn: 0.3234153\ttotal: 2.54s\tremaining: 347ms\n",
      "88:\tlearn: 0.3229051\ttotal: 2.58s\tremaining: 320ms\n",
      "89:\tlearn: 0.3224099\ttotal: 2.61s\tremaining: 290ms\n",
      "90:\tlearn: 0.3219813\ttotal: 2.63s\tremaining: 260ms\n",
      "91:\tlearn: 0.3215391\ttotal: 2.66s\tremaining: 231ms\n",
      "92:\tlearn: 0.3211765\ttotal: 2.68s\tremaining: 202ms\n",
      "93:\tlearn: 0.3207913\ttotal: 2.7s\tremaining: 173ms\n",
      "94:\tlearn: 0.3203360\ttotal: 2.81s\tremaining: 148ms\n",
      "95:\tlearn: 0.3199473\ttotal: 2.83s\tremaining: 118ms\n",
      "96:\tlearn: 0.3195659\ttotal: 2.85s\tremaining: 88.3ms\n",
      "97:\tlearn: 0.3192034\ttotal: 2.88s\tremaining: 58.8ms\n",
      "98:\tlearn: 0.3188360\ttotal: 2.91s\tremaining: 29.4ms\n",
      "99:\tlearn: 0.3184984\ttotal: 2.96s\tremaining: 0us\n",
      "FINAL MODEL 'CatBoost''\n",
      "Accuracy Score value: 0.8676\n",
      "              precision    recall  f1-score   support\n",
      "\n",
      "           0       0.86      0.89      0.88      6506\n",
      "           1       0.87      0.84      0.86      5731\n",
      "\n",
      "    accuracy                           0.87     12237\n",
      "   macro avg       0.87      0.87      0.87     12237\n",
      "weighted avg       0.87      0.87      0.87     12237\n",
      "\n"
     ]
    }
   ],
   "source": [
    "best_model = CatBoostClassifier(**model_param['CatBoost'])\n",
    "best_model = best_model.fit(X_train,y_train)\n",
    "y_pred = best_model.predict(X_test)\n",
    "score = accuracy_score(y_test,y_pred)\n",
    "cr = classification_report(y_test,y_pred)\n",
    "\n",
    "print(\"FINAL MODEL 'CatBoost''\")\n",
    "print (\"Accuracy Score value: {:.4f}\".format(score))\n",
    "print (cr)"
   ]
  },
  {
   "cell_type": "code",
   "execution_count": 102,
   "metadata": {},
   "outputs": [
    {
     "data": {
      "text/plain": [
       "<sklearn.metrics._plot.confusion_matrix.ConfusionMatrixDisplay at 0x24d5adf48e0>"
      ]
     },
     "execution_count": 102,
     "metadata": {},
     "output_type": "execute_result"
    },
    {
     "data": {
      "image/png": "[encoded data removed]",
      "text/plain": [
       "<Figure size 640x480 with 2 Axes>"
      ]
     },
     "metadata": {},
     "output_type": "display_data"
    }
   ],
   "source": [
    "from sklearn.metrics import ConfusionMatrixDisplay\n",
    "ConfusionMatrixDisplay.from_estimator(best_model, X_test, y_test)"
   ]
  },
  {
   "cell_type": "markdown",
   "metadata": {},
   "source": [
    "### Best Model is Catboostclassifier  without hyperparameter tuning Accuracy 87%\n"
   ]
  },
  {
   "cell_type": "code",
   "execution_count": null,
   "metadata": {},
   "outputs": [],
   "source": []
  },
  {
   "cell_type": "code",
   "execution_count": null,
   "metadata": {},
   "outputs": [],
   "source": []
  },
  {
   "cell_type": "code",
   "execution_count": null,
   "metadata": {},
   "outputs": [],
   "source": []
  },
  {
   "cell_type": "code",
   "execution_count": null,
   "metadata": {},
   "outputs": [],
   "source": []
  }
 ],
 "metadata": {
  "kernelspec": {
   "display_name": "referal_pred",
   "language": "python",
   "name": "python3"
  },
  "language_info": {
   "codemirror_mode": {
    "name": "ipython",
    "version": 3
   },
   "file_extension": ".py",
   "mimetype": "text/x-python",
   "name": "python",
   "nbconvert_exporter": "python",
   "pygments_lexer": "ipython3",
   "version": "3.9.21"
  }
 },
 "nbformat": 4,
 "nbformat_minor": 2
}
